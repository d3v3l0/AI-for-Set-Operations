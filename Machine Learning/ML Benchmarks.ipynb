{
 "cells": [
  {
   "cell_type": "markdown",
   "metadata": {},
   "source": [
    "# Imports"
   ]
  },
  {
   "cell_type": "code",
   "execution_count": 1,
   "metadata": {},
   "outputs": [],
   "source": [
    "import pandas as pd\n",
    "import numpy as np\n",
    "from sklearn.model_selection import train_test_split\n",
    "from sklearn.tree import DecisionTreeClassifier\n",
    "import math\n",
    "import seaborn as sns"
   ]
  },
  {
   "cell_type": "markdown",
   "metadata": {},
   "source": [
    "# Loading CSV"
   ]
  },
  {
   "cell_type": "code",
   "execution_count": 2,
   "metadata": {},
   "outputs": [
    {
     "data": {
      "text/html": [
       "<div>\n",
       "<style scoped>\n",
       "    .dataframe tbody tr th:only-of-type {\n",
       "        vertical-align: middle;\n",
       "    }\n",
       "\n",
       "    .dataframe tbody tr th {\n",
       "        vertical-align: top;\n",
       "    }\n",
       "\n",
       "    .dataframe thead th {\n",
       "        text-align: right;\n",
       "    }\n",
       "</style>\n",
       "<table border=\"1\" class=\"dataframe\">\n",
       "  <thead>\n",
       "    <tr style=\"text-align: right;\">\n",
       "      <th></th>\n",
       "      <th>range</th>\n",
       "      <th>n1</th>\n",
       "      <th>average1</th>\n",
       "      <th>std1</th>\n",
       "      <th>n2</th>\n",
       "      <th>average2</th>\n",
       "      <th>std2</th>\n",
       "      <th>skewed_1</th>\n",
       "      <th>skewed_2</th>\n",
       "      <th>non_skewed</th>\n",
       "      <th>fastest_algo</th>\n",
       "    </tr>\n",
       "  </thead>\n",
       "  <tbody>\n",
       "    <tr>\n",
       "      <th>0</th>\n",
       "      <td>65518</td>\n",
       "      <td>9862</td>\n",
       "      <td>16767.2</td>\n",
       "      <td>21066.0</td>\n",
       "      <td>9862</td>\n",
       "      <td>16767.2</td>\n",
       "      <td>21066.0</td>\n",
       "      <td>1973</td>\n",
       "      <td>380</td>\n",
       "      <td>8875</td>\n",
       "      <td>skewed_2</td>\n",
       "    </tr>\n",
       "    <tr>\n",
       "      <th>1</th>\n",
       "      <td>65518</td>\n",
       "      <td>9862</td>\n",
       "      <td>16767.2</td>\n",
       "      <td>21066.0</td>\n",
       "      <td>10</td>\n",
       "      <td>20967.0</td>\n",
       "      <td>22080.1</td>\n",
       "      <td>451</td>\n",
       "      <td>182</td>\n",
       "      <td>189</td>\n",
       "      <td>skewed_2</td>\n",
       "    </tr>\n",
       "    <tr>\n",
       "      <th>2</th>\n",
       "      <td>65518</td>\n",
       "      <td>9862</td>\n",
       "      <td>16767.2</td>\n",
       "      <td>21066.0</td>\n",
       "      <td>4</td>\n",
       "      <td>21096.2</td>\n",
       "      <td>24358.7</td>\n",
       "      <td>357</td>\n",
       "      <td>68</td>\n",
       "      <td>157</td>\n",
       "      <td>skewed_2</td>\n",
       "    </tr>\n",
       "    <tr>\n",
       "      <th>3</th>\n",
       "      <td>65518</td>\n",
       "      <td>9862</td>\n",
       "      <td>16767.2</td>\n",
       "      <td>21066.0</td>\n",
       "      <td>48</td>\n",
       "      <td>22803.3</td>\n",
       "      <td>22462.6</td>\n",
       "      <td>448</td>\n",
       "      <td>192</td>\n",
       "      <td>404</td>\n",
       "      <td>skewed_2</td>\n",
       "    </tr>\n",
       "    <tr>\n",
       "      <th>4</th>\n",
       "      <td>65518</td>\n",
       "      <td>9862</td>\n",
       "      <td>16767.2</td>\n",
       "      <td>21066.0</td>\n",
       "      <td>3131</td>\n",
       "      <td>17175.5</td>\n",
       "      <td>21213.4</td>\n",
       "      <td>888</td>\n",
       "      <td>391</td>\n",
       "      <td>1563</td>\n",
       "      <td>skewed_2</td>\n",
       "    </tr>\n",
       "  </tbody>\n",
       "</table>\n",
       "</div>"
      ],
      "text/plain": [
       "   range    n1  average1     std1    n2  average2     std2  skewed_1  \\\n",
       "0  65518  9862   16767.2  21066.0  9862   16767.2  21066.0      1973   \n",
       "1  65518  9862   16767.2  21066.0    10   20967.0  22080.1       451   \n",
       "2  65518  9862   16767.2  21066.0     4   21096.2  24358.7       357   \n",
       "3  65518  9862   16767.2  21066.0    48   22803.3  22462.6       448   \n",
       "4  65518  9862   16767.2  21066.0  3131   17175.5  21213.4       888   \n",
       "\n",
       "   skewed_2  non_skewed fastest_algo  \n",
       "0       380        8875     skewed_2  \n",
       "1       182         189     skewed_2  \n",
       "2        68         157     skewed_2  \n",
       "3       192         404     skewed_2  \n",
       "4       391        1563     skewed_2  "
      ]
     },
     "execution_count": 2,
     "metadata": {},
     "output_type": "execute_result"
    }
   ],
   "source": [
    "dataset = pd.read_csv('../results/Intel(R) Core(TM) i7-8700 CPU @ 3.20GHz/Intersect_masterset.csv')\n",
    "dataset.head()"
   ]
  },
  {
   "cell_type": "markdown",
   "metadata": {},
   "source": [
    "# Building Dataset"
   ]
  },
  {
   "cell_type": "code",
   "execution_count": 3,
   "metadata": {},
   "outputs": [],
   "source": [
    "feature_cols = ['n1', 'n2', 'range', 'std1', 'std2', 'average1', 'average2']\n",
    "algos = ['skewed_1', 'skewed_2', 'non_skewed']"
   ]
  },
  {
   "cell_type": "code",
   "execution_count": 4,
   "metadata": {},
   "outputs": [],
   "source": [
    "def get_X(d): \n",
    "    return d.loc[:, feature_cols].values"
   ]
  },
  {
   "cell_type": "code",
   "execution_count": 5,
   "metadata": {},
   "outputs": [
    {
     "data": {
      "text/plain": [
       "(640000, 7)"
      ]
     },
     "execution_count": 5,
     "metadata": {},
     "output_type": "execute_result"
    }
   ],
   "source": [
    "get_X(dataset).shape"
   ]
  },
  {
   "cell_type": "code",
   "execution_count": 6,
   "metadata": {},
   "outputs": [],
   "source": [
    "def get_ys(d):\n",
    "    return d.loc[:, algos].values"
   ]
  },
  {
   "cell_type": "code",
   "execution_count": 7,
   "metadata": {},
   "outputs": [
    {
     "data": {
      "text/plain": [
       "(640000, 3)"
      ]
     },
     "execution_count": 7,
     "metadata": {},
     "output_type": "execute_result"
    }
   ],
   "source": [
    "get_ys(dataset).shape"
   ]
  },
  {
   "cell_type": "code",
   "execution_count": 8,
   "metadata": {},
   "outputs": [],
   "source": [
    "def get_cy(d):\n",
    "    return np.array(d.loc[:, 'fastest_algo'].values)"
   ]
  },
  {
   "cell_type": "code",
   "execution_count": 9,
   "metadata": {},
   "outputs": [
    {
     "data": {
      "text/plain": [
       "(640000,)"
      ]
     },
     "execution_count": 9,
     "metadata": {},
     "output_type": "execute_result"
    }
   ],
   "source": [
    "get_cy(dataset).shape"
   ]
  },
  {
   "cell_type": "code",
   "execution_count": 10,
   "metadata": {},
   "outputs": [],
   "source": [
    "def get_cyTimes(d):\n",
    "    return np.array([min(a) for a in get_ys(d)])"
   ]
  },
  {
   "cell_type": "code",
   "execution_count": 11,
   "metadata": {},
   "outputs": [
    {
     "data": {
      "text/plain": [
       "(640000,)"
      ]
     },
     "execution_count": 11,
     "metadata": {},
     "output_type": "execute_result"
    }
   ],
   "source": [
    "get_cyTimes(dataset).shape"
   ]
  },
  {
   "cell_type": "code",
   "execution_count": 12,
   "metadata": {},
   "outputs": [],
   "source": [
    "def get_gain_dataset(d):\n",
    "    d2 = d.assign(gain=[float(max(a)) / min(a) for a in get_ys(d)]) \n",
    "    d2 = d2[d2.gain > 2]\n",
    "    reps = [int(math.log(x, 2)) for x in d2.gain]\n",
    "    d2 = d2.loc[np.repeat(d2.index.values, reps)]\n",
    "    d2 = d2.sort_values(by=['gain'], ascending=False)\n",
    "    return d2"
   ]
  },
  {
   "cell_type": "code",
   "execution_count": 13,
   "metadata": {},
   "outputs": [
    {
     "data": {
      "text/html": [
       "<div>\n",
       "<style scoped>\n",
       "    .dataframe tbody tr th:only-of-type {\n",
       "        vertical-align: middle;\n",
       "    }\n",
       "\n",
       "    .dataframe tbody tr th {\n",
       "        vertical-align: top;\n",
       "    }\n",
       "\n",
       "    .dataframe thead th {\n",
       "        text-align: right;\n",
       "    }\n",
       "</style>\n",
       "<table border=\"1\" class=\"dataframe\">\n",
       "  <thead>\n",
       "    <tr style=\"text-align: right;\">\n",
       "      <th></th>\n",
       "      <th>range</th>\n",
       "      <th>n1</th>\n",
       "      <th>average1</th>\n",
       "      <th>std1</th>\n",
       "      <th>n2</th>\n",
       "      <th>average2</th>\n",
       "      <th>std2</th>\n",
       "      <th>skewed_1</th>\n",
       "      <th>skewed_2</th>\n",
       "      <th>non_skewed</th>\n",
       "      <th>fastest_algo</th>\n",
       "      <th>gain</th>\n",
       "    </tr>\n",
       "  </thead>\n",
       "  <tbody>\n",
       "    <tr>\n",
       "      <th>366698</th>\n",
       "      <td>28738</td>\n",
       "      <td>9934</td>\n",
       "      <td>13142.5</td>\n",
       "      <td>13167.3</td>\n",
       "      <td>4</td>\n",
       "      <td>4814.75</td>\n",
       "      <td>5706.13</td>\n",
       "      <td>50224</td>\n",
       "      <td>77</td>\n",
       "      <td>26</td>\n",
       "      <td>non_skewed</td>\n",
       "      <td>1931.692308</td>\n",
       "    </tr>\n",
       "    <tr>\n",
       "      <th>366698</th>\n",
       "      <td>28738</td>\n",
       "      <td>9934</td>\n",
       "      <td>13142.5</td>\n",
       "      <td>13167.3</td>\n",
       "      <td>4</td>\n",
       "      <td>4814.75</td>\n",
       "      <td>5706.13</td>\n",
       "      <td>50224</td>\n",
       "      <td>77</td>\n",
       "      <td>26</td>\n",
       "      <td>non_skewed</td>\n",
       "      <td>1931.692308</td>\n",
       "    </tr>\n",
       "    <tr>\n",
       "      <th>366698</th>\n",
       "      <td>28738</td>\n",
       "      <td>9934</td>\n",
       "      <td>13142.5</td>\n",
       "      <td>13167.3</td>\n",
       "      <td>4</td>\n",
       "      <td>4814.75</td>\n",
       "      <td>5706.13</td>\n",
       "      <td>50224</td>\n",
       "      <td>77</td>\n",
       "      <td>26</td>\n",
       "      <td>non_skewed</td>\n",
       "      <td>1931.692308</td>\n",
       "    </tr>\n",
       "    <tr>\n",
       "      <th>366698</th>\n",
       "      <td>28738</td>\n",
       "      <td>9934</td>\n",
       "      <td>13142.5</td>\n",
       "      <td>13167.3</td>\n",
       "      <td>4</td>\n",
       "      <td>4814.75</td>\n",
       "      <td>5706.13</td>\n",
       "      <td>50224</td>\n",
       "      <td>77</td>\n",
       "      <td>26</td>\n",
       "      <td>non_skewed</td>\n",
       "      <td>1931.692308</td>\n",
       "    </tr>\n",
       "    <tr>\n",
       "      <th>366698</th>\n",
       "      <td>28738</td>\n",
       "      <td>9934</td>\n",
       "      <td>13142.5</td>\n",
       "      <td>13167.3</td>\n",
       "      <td>4</td>\n",
       "      <td>4814.75</td>\n",
       "      <td>5706.13</td>\n",
       "      <td>50224</td>\n",
       "      <td>77</td>\n",
       "      <td>26</td>\n",
       "      <td>non_skewed</td>\n",
       "      <td>1931.692308</td>\n",
       "    </tr>\n",
       "  </tbody>\n",
       "</table>\n",
       "</div>"
      ],
      "text/plain": [
       "        range    n1  average1     std1  n2  average2     std2  skewed_1  \\\n",
       "366698  28738  9934   13142.5  13167.3   4   4814.75  5706.13     50224   \n",
       "366698  28738  9934   13142.5  13167.3   4   4814.75  5706.13     50224   \n",
       "366698  28738  9934   13142.5  13167.3   4   4814.75  5706.13     50224   \n",
       "366698  28738  9934   13142.5  13167.3   4   4814.75  5706.13     50224   \n",
       "366698  28738  9934   13142.5  13167.3   4   4814.75  5706.13     50224   \n",
       "\n",
       "        skewed_2  non_skewed fastest_algo         gain  \n",
       "366698        77          26   non_skewed  1931.692308  \n",
       "366698        77          26   non_skewed  1931.692308  \n",
       "366698        77          26   non_skewed  1931.692308  \n",
       "366698        77          26   non_skewed  1931.692308  \n",
       "366698        77          26   non_skewed  1931.692308  "
      ]
     },
     "execution_count": 13,
     "metadata": {},
     "output_type": "execute_result"
    }
   ],
   "source": [
    "gain_dataset = get_gain_dataset(dataset)\n",
    "gain_dataset.head()"
   ]
  },
  {
   "cell_type": "code",
   "execution_count": 14,
   "metadata": {},
   "outputs": [
    {
     "data": {
      "text/plain": [
       "<matplotlib.axes._subplots.AxesSubplot at 0x7fcd440d0d90>"
      ]
     },
     "execution_count": 14,
     "metadata": {},
     "output_type": "execute_result"
    },
    {
     "data": {
      "image/png": "[encoded data removed]",
      "text/plain": [
       "<Figure size 432x288 with 1 Axes>"
      ]
     },
     "metadata": {},
     "output_type": "display_data"
    }
   ],
   "source": [
    "from scipy.stats import norm\n",
    "sns.set();\n",
    "sns.distplot(gain_dataset.gain, hist=False)"
   ]
  },
  {
   "cell_type": "code",
   "execution_count": 15,
   "metadata": {
    "scrolled": false
   },
   "outputs": [
    {
     "data": {
      "text/plain": [
       "<matplotlib.axes._subplots.AxesSubplot at 0x7fcd43ff20d0>"
      ]
     },
     "execution_count": 15,
     "metadata": {},
     "output_type": "execute_result"
    },
    {
     "data": {
      "image/png": "[encoded data removed]",
      "text/plain": [
       "<Figure size 432x288 with 1 Axes>"
      ]
     },
     "metadata": {},
     "output_type": "display_data"
    }
   ],
   "source": [
    "sns.set(color_codes=True)\n",
    "sns.countplot(x=\"fastest_algo\", data=gain_dataset)"
   ]
  },
  {
   "cell_type": "code",
   "execution_count": 16,
   "metadata": {},
   "outputs": [],
   "source": [
    "def normalize_dataset(d):\n",
    "    val_count = d[\"fastest_algo\"].value_counts().tolist()\n",
    "    min_count = min(val_count)\n",
    "    d = pd.concat([d[d.fastest_algo == algo].head(min_count) for algo in algos])\n",
    "    return d"
   ]
  },
  {
   "cell_type": "code",
   "execution_count": 17,
   "metadata": {},
   "outputs": [
    {
     "data": {
      "text/plain": [
       "(984765, 12)"
      ]
     },
     "execution_count": 17,
     "metadata": {},
     "output_type": "execute_result"
    }
   ],
   "source": [
    "normed_dataset = normalize_dataset(get_gain_dataset(dataset))\n",
    "normed_dataset.shape"
   ]
  },
  {
   "cell_type": "code",
   "execution_count": 18,
   "metadata": {},
   "outputs": [
    {
     "data": {
      "text/plain": [
       "<matplotlib.axes._subplots.AxesSubplot at 0x7fcd43f50090>"
      ]
     },
     "execution_count": 18,
     "metadata": {},
     "output_type": "execute_result"
    },
    {
     "data": {
      "image/png": "[encoded data removed]",
      "text/plain": [
       "<Figure size 432x288 with 1 Axes>"
      ]
     },
     "metadata": {},
     "output_type": "display_data"
    }
   ],
   "source": [
    "sns.set(color_codes=True)\n",
    "sns.countplot(x=\"fastest_algo\", data=normed_dataset)"
   ]
  },
  {
   "cell_type": "code",
   "execution_count": 19,
   "metadata": {},
   "outputs": [],
   "source": [
    "def get_benchmark_set(d):\n",
    "    d = get_gain_dataset(d)\n",
    "    d = normalize_dataset(d)\n",
    "    benchmarkSet = get_X(d).tolist()\n",
    "    ys = get_ys(d)\n",
    "    cyTimes = get_cyTimes(d)\n",
    "    cy = get_cy(d)\n",
    "    for index, attributes in enumerate(benchmarkSet):\n",
    "        for time in ys[index]:\n",
    "            attributes.append(time)\n",
    "        attributes.append(cyTimes[index])\n",
    "        attributes.append(cy[index])\n",
    "    return np.array(benchmarkSet)"
   ]
  },
  {
   "cell_type": "code",
   "execution_count": 20,
   "metadata": {},
   "outputs": [
    {
     "data": {
      "text/plain": [
       "(984765, 12)"
      ]
     },
     "execution_count": 20,
     "metadata": {},
     "output_type": "execute_result"
    }
   ],
   "source": [
    "get_benchmark_set(dataset).shape"
   ]
  },
  {
   "cell_type": "markdown",
   "metadata": {},
   "source": [
    "# Calculating value of the project"
   ]
  },
  {
   "cell_type": "code",
   "execution_count": 21,
   "metadata": {},
   "outputs": [],
   "source": [
    "def percentChange(new, old):\n",
    "    return ((float(old)/new)-1)"
   ]
  },
  {
   "cell_type": "code",
   "execution_count": 22,
   "metadata": {},
   "outputs": [],
   "source": [
    "def getAlgoTime(algoName, row):\n",
    "    for index, algo in enumerate(algos):\n",
    "        if(algoName == algo):\n",
    "            return int(row[len(feature_cols) + index])\n",
    "    print('oups none of the available algos')"
   ]
  },
  {
   "cell_type": "code",
   "execution_count": 23,
   "metadata": {},
   "outputs": [],
   "source": [
    "def getOldSchoolAlgo(n1, n2):\n",
    "    threshold = 64\n",
    "    n1 = float(n1)\n",
    "    n2 = float(n2)\n",
    "    if (n1 * threshold < n2):\n",
    "        return 'skewed_1'\n",
    "    if (n2 * threshold < n1):\n",
    "        return 'skewed_2'\n",
    "    return 'non_skewed'"
   ]
  },
  {
   "cell_type": "code",
   "execution_count": 67,
   "metadata": {},
   "outputs": [],
   "source": [
    "def calculateValueOfML(train, test):\n",
    "    #clf = DecisionTreeClassifier(max_depth=None, random_state=0)\n",
    "    from sklearn.linear_model import SGDClassifier\n",
    "    from sklearn.ensemble import RandomForestClassifier\n",
    "    from sklearn.ensemble import ExtraTreesClassifier\n",
    "    from sklearn.ensemble import GradientBoostingClassifier\n",
    "    #import xgboost as xgb\n",
    "    from xgboost import XGBClassifier\n",
    "    \n",
    "    #clf = GradientBoostingClassifier(n_estimators=100, learning_rate=.1, random_state=0)\n",
    "    clf = XGBClassifier(n_estimators=100, learning_rate=1, n_jobs=12)\n",
    "    clf.fit(train[:, 0:len(feature_cols)], train[:,-1])\n",
    "    \n",
    "    mlChosenAlgos = clf.predict(test[:, 0:len(feature_cols)])\n",
    "\n",
    "    GoodPredictionsCount = 0\n",
    "    mlTotTime = 0\n",
    "    osTotTime = 0\n",
    "    perfectTotTime = 0\n",
    "    for i, algo in enumerate(mlChosenAlgos):\n",
    "        if(algo == test[i,-1]):\n",
    "            GoodPredictionsCount += 1\n",
    "        mlTotTime += getAlgoTime(algo, test[i])\n",
    "        n1 = test[i,feature_cols.index('n1')]\n",
    "        n2 = test[i,feature_cols.index('n2')]\n",
    "        osAlgo = getOldSchoolAlgo(n1 , n2)\n",
    "        #print(osAlgo)\n",
    "        osTotTime += getAlgoTime(osAlgo, test[i])\n",
    "        perfectTotTime += int(test[i,-2])\n",
    "\n",
    "    print(\"Average classification precision: %.2f\" % (float(GoodPredictionsCount)/len(mlChosenAlgos)))\n",
    "    print(\"Total ml time: %d\" % mlTotTime)\n",
    "    print(\"Total old school time: %d\" % osTotTime)\n",
    "    print(\"Machine learning is faster by : %.2f\" % percentChange(mlTotTime, osTotTime))\n",
    "    print(\"With perfect prediction : %.2f\" % percentChange(perfectTotTime, osTotTime))"
   ]
  },
  {
   "cell_type": "code",
   "execution_count": 35,
   "metadata": {
    "scrolled": false
   },
   "outputs": [
    {
     "name": "stdout",
     "output_type": "stream",
     "text": [
      "(984765, 12)\n"
     ]
    }
   ],
   "source": [
    "benchmarkSet = get_benchmark_set(dataset)\n",
    "print(benchmarkSet.shape)"
   ]
  },
  {
   "cell_type": "code",
   "execution_count": 68,
   "metadata": {
    "scrolled": true
   },
   "outputs": [
    {
     "name": "stderr",
     "output_type": "stream",
     "text": [
      "/home/jeremie/anaconda2/lib/python2.7/site-packages/sklearn/preprocessing/label.py:151: DeprecationWarning: The truth value of an empty array is ambiguous. Returning False, but in future this will result in an error. Use `array.size > 0` to check that an array is not empty.\n",
      "  if diff:\n"
     ]
    },
    {
     "name": "stdout",
     "output_type": "stream",
     "text": [
      "Average classification precision: 0.98\n",
      "Total ml time: 125070671\n",
      "Total old school time: 5401322571\n",
      "Machine learning is faster by : 42.19\n",
      "With perfect prediction : 43.70\n"
     ]
    }
   ],
   "source": [
    "X_train, X_test, y_train, y_test = train_test_split(benchmarkSet, benchmarkSet, test_size=0.2, random_state=0)\n",
    "calculateValueOfML(X_train, X_test)"
   ]
  },
  {
   "cell_type": "markdown",
   "metadata": {},
   "source": [
    "# Test dataset with other sets "
   ]
  },
  {
   "cell_type": "code",
   "execution_count": 344,
   "metadata": {},
   "outputs": [
    {
     "data": {
      "text/html": [
       "<div>\n",
       "<style scoped>\n",
       "    .dataframe tbody tr th:only-of-type {\n",
       "        vertical-align: middle;\n",
       "    }\n",
       "\n",
       "    .dataframe tbody tr th {\n",
       "        vertical-align: top;\n",
       "    }\n",
       "\n",
       "    .dataframe thead th {\n",
       "        text-align: right;\n",
       "    }\n",
       "</style>\n",
       "<table border=\"1\" class=\"dataframe\">\n",
       "  <thead>\n",
       "    <tr style=\"text-align: right;\">\n",
       "      <th></th>\n",
       "      <th>range</th>\n",
       "      <th>n1</th>\n",
       "      <th>average1</th>\n",
       "      <th>std1</th>\n",
       "      <th>n2</th>\n",
       "      <th>average2</th>\n",
       "      <th>std2</th>\n",
       "      <th>skewed_1</th>\n",
       "      <th>skewed_2</th>\n",
       "      <th>non_skewed</th>\n",
       "      <th>fastest_algo</th>\n",
       "    </tr>\n",
       "  </thead>\n",
       "  <tbody>\n",
       "    <tr>\n",
       "      <th>0</th>\n",
       "      <td>50900</td>\n",
       "      <td>4</td>\n",
       "      <td>25490.8</td>\n",
       "      <td>29386.8</td>\n",
       "      <td>4</td>\n",
       "      <td>25490.8</td>\n",
       "      <td>29386.800000</td>\n",
       "      <td>289</td>\n",
       "      <td>79</td>\n",
       "      <td>55</td>\n",
       "      <td>non_skewed</td>\n",
       "    </tr>\n",
       "    <tr>\n",
       "      <th>1</th>\n",
       "      <td>50900</td>\n",
       "      <td>4</td>\n",
       "      <td>25490.8</td>\n",
       "      <td>29386.8</td>\n",
       "      <td>2</td>\n",
       "      <td>38333.5</td>\n",
       "      <td>0.707107</td>\n",
       "      <td>64</td>\n",
       "      <td>65</td>\n",
       "      <td>52</td>\n",
       "      <td>non_skewed</td>\n",
       "    </tr>\n",
       "    <tr>\n",
       "      <th>2</th>\n",
       "      <td>50900</td>\n",
       "      <td>4</td>\n",
       "      <td>25490.8</td>\n",
       "      <td>29386.8</td>\n",
       "      <td>58</td>\n",
       "      <td>13818.5</td>\n",
       "      <td>13894.800000</td>\n",
       "      <td>56</td>\n",
       "      <td>186</td>\n",
       "      <td>67</td>\n",
       "      <td>skewed_1</td>\n",
       "    </tr>\n",
       "    <tr>\n",
       "      <th>3</th>\n",
       "      <td>50901</td>\n",
       "      <td>4</td>\n",
       "      <td>25490.8</td>\n",
       "      <td>29386.8</td>\n",
       "      <td>2</td>\n",
       "      <td>25491.5</td>\n",
       "      <td>35992.400000</td>\n",
       "      <td>69</td>\n",
       "      <td>59</td>\n",
       "      <td>57</td>\n",
       "      <td>non_skewed</td>\n",
       "    </tr>\n",
       "    <tr>\n",
       "      <th>4</th>\n",
       "      <td>50939</td>\n",
       "      <td>4</td>\n",
       "      <td>25490.8</td>\n",
       "      <td>29386.8</td>\n",
       "      <td>4</td>\n",
       "      <td>16331.2</td>\n",
       "      <td>18855.400000</td>\n",
       "      <td>49</td>\n",
       "      <td>54</td>\n",
       "      <td>58</td>\n",
       "      <td>skewed_1</td>\n",
       "    </tr>\n",
       "  </tbody>\n",
       "</table>\n",
       "</div>"
      ],
      "text/plain": [
       "   range  n1  average1     std1  n2  average2          std2  skewed_1  \\\n",
       "0  50900   4   25490.8  29386.8   4   25490.8  29386.800000       289   \n",
       "1  50900   4   25490.8  29386.8   2   38333.5      0.707107        64   \n",
       "2  50900   4   25490.8  29386.8  58   13818.5  13894.800000        56   \n",
       "3  50901   4   25490.8  29386.8   2   25491.5  35992.400000        69   \n",
       "4  50939   4   25490.8  29386.8   4   16331.2  18855.400000        49   \n",
       "\n",
       "   skewed_2  non_skewed fastest_algo  \n",
       "0        79          55   non_skewed  \n",
       "1        65          52   non_skewed  \n",
       "2       186          67     skewed_1  \n",
       "3        59          57   non_skewed  \n",
       "4        54          58     skewed_1  "
      ]
     },
     "execution_count": 344,
     "metadata": {},
     "output_type": "execute_result"
    }
   ],
   "source": [
    "test_dataset = pd.read_csv('../results/Intel(R) Core(TM) i7-8700 CPU @ 3.20GHz/test_data/Intersect_dataset.csv')\n",
    "test_dataset.head()"
   ]
  },
  {
   "cell_type": "code",
   "execution_count": 368,
   "metadata": {},
   "outputs": [],
   "source": [
    "train_benchmarkSet = get_benchmark_set(dataset)\n",
    "test_benchmarkSet = get_benchmark_set(test_dataset)"
   ]
  },
  {
   "cell_type": "code",
   "execution_count": 374,
   "metadata": {},
   "outputs": [
    {
     "name": "stdout",
     "output_type": "stream",
     "text": [
      "Average classification precision: 0.56\n",
      "Total ml time: 40489613\n",
      "Total old school time: 25974357\n",
      "Machine learning is faster by : -0.36\n",
      "With perfect prediction : 1.17\n"
     ]
    }
   ],
   "source": [
    "calculateValueOfML(train_benchmarkSet, test_benchmarkSet)"
   ]
  },
  {
   "cell_type": "markdown",
   "metadata": {},
   "source": [
    "# Serialize model"
   ]
  },
  {
   "cell_type": "code",
   "execution_count": null,
   "metadata": {},
   "outputs": [],
   "source": [
    "# from sklearn.externals import joblib\n",
    "\n",
    "# clf = DecisionTreeClassifier(max_depth=None, random_state=0)\n",
    "# clf.fit(X, cy)\n",
    "# joblib.dump(clf, '.joblib')"
   ]
  },
  {
   "cell_type": "code",
   "execution_count": 244,
   "metadata": {},
   "outputs": [
    {
     "data": {
      "text/plain": [
       "11.287712379549449"
      ]
     },
     "execution_count": 244,
     "metadata": {},
     "output_type": "execute_result"
    }
   ],
   "source": [
    "math.log(2500, 2)"
   ]
  },
  {
   "cell_type": "code",
   "execution_count": null,
   "metadata": {},
   "outputs": [],
   "source": []
  }
 ],
 "metadata": {
  "kernelspec": {
   "display_name": "Python 2",
   "language": "python",
   "name": "python2"
  },
  "language_info": {
   "codemirror_mode": {
    "name": "ipython",
    "version": 2
   },
   "file_extension": ".py",
   "mimetype": "text/x-python",
   "name": "python",
   "nbconvert_exporter": "python",
   "pygments_lexer": "ipython2",
   "version": "2.7.15"
  }
 },
 "nbformat": 4,
 "nbformat_minor": 2
}
