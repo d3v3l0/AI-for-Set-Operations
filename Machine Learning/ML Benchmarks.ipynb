{
 "cells": [
  {
   "cell_type": "markdown",
   "metadata": {},
   "source": [
    "# Imports"
   ]
  },
  {
   "cell_type": "code",
   "execution_count": 1,
   "metadata": {},
   "outputs": [],
   "source": [
    "import pandas as pd\n",
    "import numpy as np\n",
    "from sklearn.model_selection import train_test_split\n",
    "from sklearn.tree import DecisionTreeClassifier\n",
    "import math\n",
    "import seaborn as sns"
   ]
  },
  {
   "cell_type": "markdown",
   "metadata": {},
   "source": [
    "# Loading CSV"
   ]
  },
  {
   "cell_type": "code",
   "execution_count": 2,
   "metadata": {},
   "outputs": [
    {
     "data": {
      "text/html": [
       "<div>\n",
       "<style scoped>\n",
       "    .dataframe tbody tr th:only-of-type {\n",
       "        vertical-align: middle;\n",
       "    }\n",
       "\n",
       "    .dataframe tbody tr th {\n",
       "        vertical-align: top;\n",
       "    }\n",
       "\n",
       "    .dataframe thead th {\n",
       "        text-align: right;\n",
       "    }\n",
       "</style>\n",
       "<table border=\"1\" class=\"dataframe\">\n",
       "  <thead>\n",
       "    <tr style=\"text-align: right;\">\n",
       "      <th></th>\n",
       "      <th>range</th>\n",
       "      <th>n1</th>\n",
       "      <th>average1</th>\n",
       "      <th>std1</th>\n",
       "      <th>n2</th>\n",
       "      <th>average2</th>\n",
       "      <th>std2</th>\n",
       "      <th>skewed_1</th>\n",
       "      <th>skewed_2</th>\n",
       "      <th>non_skewed</th>\n",
       "      <th>fastest_algo</th>\n",
       "    </tr>\n",
       "  </thead>\n",
       "  <tbody>\n",
       "    <tr>\n",
       "      <th>0</th>\n",
       "      <td>65518</td>\n",
       "      <td>9862</td>\n",
       "      <td>16767.2</td>\n",
       "      <td>21066.0</td>\n",
       "      <td>9862</td>\n",
       "      <td>16767.2</td>\n",
       "      <td>21066.0</td>\n",
       "      <td>307</td>\n",
       "      <td>302</td>\n",
       "      <td>8820</td>\n",
       "      <td>skewed_2</td>\n",
       "    </tr>\n",
       "    <tr>\n",
       "      <th>1</th>\n",
       "      <td>65518</td>\n",
       "      <td>9862</td>\n",
       "      <td>16767.2</td>\n",
       "      <td>21066.0</td>\n",
       "      <td>10</td>\n",
       "      <td>20967.0</td>\n",
       "      <td>22080.1</td>\n",
       "      <td>270</td>\n",
       "      <td>114</td>\n",
       "      <td>73</td>\n",
       "      <td>non_skewed</td>\n",
       "    </tr>\n",
       "    <tr>\n",
       "      <th>2</th>\n",
       "      <td>65518</td>\n",
       "      <td>9862</td>\n",
       "      <td>16767.2</td>\n",
       "      <td>21066.0</td>\n",
       "      <td>4</td>\n",
       "      <td>21096.2</td>\n",
       "      <td>24358.7</td>\n",
       "      <td>258</td>\n",
       "      <td>52</td>\n",
       "      <td>71</td>\n",
       "      <td>skewed_2</td>\n",
       "    </tr>\n",
       "    <tr>\n",
       "      <th>3</th>\n",
       "      <td>65518</td>\n",
       "      <td>9862</td>\n",
       "      <td>16767.2</td>\n",
       "      <td>21066.0</td>\n",
       "      <td>48</td>\n",
       "      <td>22803.3</td>\n",
       "      <td>22462.6</td>\n",
       "      <td>337</td>\n",
       "      <td>119</td>\n",
       "      <td>183</td>\n",
       "      <td>skewed_2</td>\n",
       "    </tr>\n",
       "    <tr>\n",
       "      <th>4</th>\n",
       "      <td>65518</td>\n",
       "      <td>9862</td>\n",
       "      <td>16767.2</td>\n",
       "      <td>21066.0</td>\n",
       "      <td>3131</td>\n",
       "      <td>17175.5</td>\n",
       "      <td>21213.4</td>\n",
       "      <td>392</td>\n",
       "      <td>254</td>\n",
       "      <td>1046</td>\n",
       "      <td>skewed_2</td>\n",
       "    </tr>\n",
       "  </tbody>\n",
       "</table>\n",
       "</div>"
      ],
      "text/plain": [
       "   range    n1  average1     std1    n2  average2     std2  skewed_1  \\\n",
       "0  65518  9862   16767.2  21066.0  9862   16767.2  21066.0       307   \n",
       "1  65518  9862   16767.2  21066.0    10   20967.0  22080.1       270   \n",
       "2  65518  9862   16767.2  21066.0     4   21096.2  24358.7       258   \n",
       "3  65518  9862   16767.2  21066.0    48   22803.3  22462.6       337   \n",
       "4  65518  9862   16767.2  21066.0  3131   17175.5  21213.4       392   \n",
       "\n",
       "   skewed_2  non_skewed fastest_algo  \n",
       "0       302        8820     skewed_2  \n",
       "1       114          73   non_skewed  \n",
       "2        52          71     skewed_2  \n",
       "3       119         183     skewed_2  \n",
       "4       254        1046     skewed_2  "
      ]
     },
     "execution_count": 2,
     "metadata": {},
     "output_type": "execute_result"
    }
   ],
   "source": [
    "dataset = pd.read_csv('../results/Intel(R) Core(TM) i7-8700 CPU @ 3.20GHz/Intersect_masterset.csv')\n",
    "dataset.head()"
   ]
  },
  {
   "cell_type": "markdown",
   "metadata": {},
   "source": [
    "# Building Dataset"
   ]
  },
  {
   "cell_type": "code",
   "execution_count": 3,
   "metadata": {},
   "outputs": [],
   "source": [
    "feature_cols = ['n1', 'n2', 'range']\n",
    "algos = ['skewed_1', 'skewed_2', 'non_skewed']"
   ]
  },
  {
   "cell_type": "code",
   "execution_count": 4,
   "metadata": {},
   "outputs": [],
   "source": [
    "def get_X(d): \n",
    "    return d.loc[:, feature_cols].values"
   ]
  },
  {
   "cell_type": "code",
   "execution_count": 5,
   "metadata": {},
   "outputs": [
    {
     "data": {
      "text/plain": [
       "(640000, 3)"
      ]
     },
     "execution_count": 5,
     "metadata": {},
     "output_type": "execute_result"
    }
   ],
   "source": [
    "get_X(dataset).shape"
   ]
  },
  {
   "cell_type": "code",
   "execution_count": 6,
   "metadata": {},
   "outputs": [],
   "source": [
    "def get_ys(d):\n",
    "    return d.loc[:, algos].values"
   ]
  },
  {
   "cell_type": "code",
   "execution_count": 7,
   "metadata": {},
   "outputs": [
    {
     "data": {
      "text/plain": [
       "(640000, 3)"
      ]
     },
     "execution_count": 7,
     "metadata": {},
     "output_type": "execute_result"
    }
   ],
   "source": [
    "get_ys(dataset).shape"
   ]
  },
  {
   "cell_type": "code",
   "execution_count": 8,
   "metadata": {},
   "outputs": [],
   "source": [
    "def get_cy(d):\n",
    "    return np.array(d.loc[:, 'fastest_algo'].values)"
   ]
  },
  {
   "cell_type": "code",
   "execution_count": 9,
   "metadata": {},
   "outputs": [
    {
     "data": {
      "text/plain": [
       "(640000,)"
      ]
     },
     "execution_count": 9,
     "metadata": {},
     "output_type": "execute_result"
    }
   ],
   "source": [
    "get_cy(dataset).shape"
   ]
  },
  {
   "cell_type": "code",
   "execution_count": 10,
   "metadata": {},
   "outputs": [],
   "source": [
    "def get_cyTimes(d):\n",
    "    return np.array([min(a) for a in get_ys(d)])"
   ]
  },
  {
   "cell_type": "code",
   "execution_count": 11,
   "metadata": {},
   "outputs": [
    {
     "data": {
      "text/plain": [
       "(640000,)"
      ]
     },
     "execution_count": 11,
     "metadata": {},
     "output_type": "execute_result"
    }
   ],
   "source": [
    "get_cyTimes(dataset).shape"
   ]
  },
  {
   "cell_type": "code",
   "execution_count": 12,
   "metadata": {},
   "outputs": [],
   "source": [
    "def get_gain_dataset(d):\n",
    "    d2 = d.assign(gain=[float(max(a)) / max(1,min(a)) for a in get_ys(d)]) \n",
    "    d2 = d2[d2.gain > 2]\n",
    "    reps = [int(math.log(x, 2)) for x in d2.gain]\n",
    "    d2 = d2.loc[np.repeat(d2.index.values, reps)]\n",
    "    d2 = d2.sort_values(by=['gain'], ascending=False)\n",
    "    return d2"
   ]
  },
  {
   "cell_type": "code",
   "execution_count": 13,
   "metadata": {},
   "outputs": [
    {
     "data": {
      "text/html": [
       "<div>\n",
       "<style scoped>\n",
       "    .dataframe tbody tr th:only-of-type {\n",
       "        vertical-align: middle;\n",
       "    }\n",
       "\n",
       "    .dataframe tbody tr th {\n",
       "        vertical-align: top;\n",
       "    }\n",
       "\n",
       "    .dataframe thead th {\n",
       "        text-align: right;\n",
       "    }\n",
       "</style>\n",
       "<table border=\"1\" class=\"dataframe\">\n",
       "  <thead>\n",
       "    <tr style=\"text-align: right;\">\n",
       "      <th></th>\n",
       "      <th>range</th>\n",
       "      <th>n1</th>\n",
       "      <th>average1</th>\n",
       "      <th>std1</th>\n",
       "      <th>n2</th>\n",
       "      <th>average2</th>\n",
       "      <th>std2</th>\n",
       "      <th>skewed_1</th>\n",
       "      <th>skewed_2</th>\n",
       "      <th>non_skewed</th>\n",
       "      <th>fastest_algo</th>\n",
       "      <th>gain</th>\n",
       "    </tr>\n",
       "  </thead>\n",
       "  <tbody>\n",
       "    <tr>\n",
       "      <th>375048</th>\n",
       "      <td>65535</td>\n",
       "      <td>530445</td>\n",
       "      <td>16886.4</td>\n",
       "      <td>21253.8</td>\n",
       "      <td>250780</td>\n",
       "      <td>19328.8</td>\n",
       "      <td>21691.7</td>\n",
       "      <td>185</td>\n",
       "      <td>28278</td>\n",
       "      <td>361320</td>\n",
       "      <td>skewed_1</td>\n",
       "      <td>1953.081081</td>\n",
       "    </tr>\n",
       "    <tr>\n",
       "      <th>375048</th>\n",
       "      <td>65535</td>\n",
       "      <td>530445</td>\n",
       "      <td>16886.4</td>\n",
       "      <td>21253.8</td>\n",
       "      <td>250780</td>\n",
       "      <td>19328.8</td>\n",
       "      <td>21691.7</td>\n",
       "      <td>185</td>\n",
       "      <td>28278</td>\n",
       "      <td>361320</td>\n",
       "      <td>skewed_1</td>\n",
       "      <td>1953.081081</td>\n",
       "    </tr>\n",
       "    <tr>\n",
       "      <th>375048</th>\n",
       "      <td>65535</td>\n",
       "      <td>530445</td>\n",
       "      <td>16886.4</td>\n",
       "      <td>21253.8</td>\n",
       "      <td>250780</td>\n",
       "      <td>19328.8</td>\n",
       "      <td>21691.7</td>\n",
       "      <td>185</td>\n",
       "      <td>28278</td>\n",
       "      <td>361320</td>\n",
       "      <td>skewed_1</td>\n",
       "      <td>1953.081081</td>\n",
       "    </tr>\n",
       "    <tr>\n",
       "      <th>375048</th>\n",
       "      <td>65535</td>\n",
       "      <td>530445</td>\n",
       "      <td>16886.4</td>\n",
       "      <td>21253.8</td>\n",
       "      <td>250780</td>\n",
       "      <td>19328.8</td>\n",
       "      <td>21691.7</td>\n",
       "      <td>185</td>\n",
       "      <td>28278</td>\n",
       "      <td>361320</td>\n",
       "      <td>skewed_1</td>\n",
       "      <td>1953.081081</td>\n",
       "    </tr>\n",
       "    <tr>\n",
       "      <th>375048</th>\n",
       "      <td>65535</td>\n",
       "      <td>530445</td>\n",
       "      <td>16886.4</td>\n",
       "      <td>21253.8</td>\n",
       "      <td>250780</td>\n",
       "      <td>19328.8</td>\n",
       "      <td>21691.7</td>\n",
       "      <td>185</td>\n",
       "      <td>28278</td>\n",
       "      <td>361320</td>\n",
       "      <td>skewed_1</td>\n",
       "      <td>1953.081081</td>\n",
       "    </tr>\n",
       "  </tbody>\n",
       "</table>\n",
       "</div>"
      ],
      "text/plain": [
       "        range      n1  average1     std1      n2  average2     std2  skewed_1  \\\n",
       "375048  65535  530445   16886.4  21253.8  250780   19328.8  21691.7       185   \n",
       "375048  65535  530445   16886.4  21253.8  250780   19328.8  21691.7       185   \n",
       "375048  65535  530445   16886.4  21253.8  250780   19328.8  21691.7       185   \n",
       "375048  65535  530445   16886.4  21253.8  250780   19328.8  21691.7       185   \n",
       "375048  65535  530445   16886.4  21253.8  250780   19328.8  21691.7       185   \n",
       "\n",
       "        skewed_2  non_skewed fastest_algo         gain  \n",
       "375048     28278      361320     skewed_1  1953.081081  \n",
       "375048     28278      361320     skewed_1  1953.081081  \n",
       "375048     28278      361320     skewed_1  1953.081081  \n",
       "375048     28278      361320     skewed_1  1953.081081  \n",
       "375048     28278      361320     skewed_1  1953.081081  "
      ]
     },
     "execution_count": 13,
     "metadata": {},
     "output_type": "execute_result"
    }
   ],
   "source": [
    "gain_dataset = get_gain_dataset(dataset)\n",
    "gain_dataset.head()"
   ]
  },
  {
   "cell_type": "code",
   "execution_count": 14,
   "metadata": {},
   "outputs": [
    {
     "data": {
      "text/plain": [
       "<matplotlib.axes._subplots.AxesSubplot at 0x7f29a857af90>"
      ]
     },
     "execution_count": 14,
     "metadata": {},
     "output_type": "execute_result"
    },
    {
     "data": {
      "image/png": "[encoded data removed]",
      "text/plain": [
       "<Figure size 432x288 with 1 Axes>"
      ]
     },
     "metadata": {},
     "output_type": "display_data"
    }
   ],
   "source": [
    "from scipy.stats import norm\n",
    "sns.set();\n",
    "sns.distplot(gain_dataset.gain, hist=False)"
   ]
  },
  {
   "cell_type": "code",
   "execution_count": 15,
   "metadata": {
    "scrolled": false
   },
   "outputs": [
    {
     "data": {
      "text/plain": [
       "<matplotlib.axes._subplots.AxesSubplot at 0x7f296fc22110>"
      ]
     },
     "execution_count": 15,
     "metadata": {},
     "output_type": "execute_result"
    },
    {
     "data": {
      "image/png": "[encoded data removed]",
      "text/plain": [
       "<Figure size 432x288 with 1 Axes>"
      ]
     },
     "metadata": {},
     "output_type": "display_data"
    }
   ],
   "source": [
    "sns.set(color_codes=True)\n",
    "sns.countplot(x=\"fastest_algo\", data=gain_dataset)"
   ]
  },
  {
   "cell_type": "code",
   "execution_count": 16,
   "metadata": {},
   "outputs": [],
   "source": [
    "def normalize_dataset(d):\n",
    "    val_count = d[\"fastest_algo\"].value_counts().tolist()\n",
    "    min_count = min(val_count)\n",
    "    d = pd.concat([d[d.fastest_algo == algo].head(min_count) for algo in algos])\n",
    "    return d"
   ]
  },
  {
   "cell_type": "code",
   "execution_count": 17,
   "metadata": {},
   "outputs": [
    {
     "data": {
      "text/plain": [
       "(977169, 12)"
      ]
     },
     "execution_count": 17,
     "metadata": {},
     "output_type": "execute_result"
    }
   ],
   "source": [
    "normed_dataset = normalize_dataset(get_gain_dataset(dataset))\n",
    "normed_dataset.shape"
   ]
  },
  {
   "cell_type": "code",
   "execution_count": 18,
   "metadata": {},
   "outputs": [
    {
     "data": {
      "text/plain": [
       "<matplotlib.axes._subplots.AxesSubplot at 0x7f296fb7dd90>"
      ]
     },
     "execution_count": 18,
     "metadata": {},
     "output_type": "execute_result"
    },
    {
     "data": {
      "image/png": "[encoded data removed]",
      "text/plain": [
       "<Figure size 432x288 with 1 Axes>"
      ]
     },
     "metadata": {},
     "output_type": "display_data"
    }
   ],
   "source": [
    "sns.set(color_codes=True)\n",
    "sns.countplot(x=\"fastest_algo\", data=normed_dataset)"
   ]
  },
  {
   "cell_type": "code",
   "execution_count": 19,
   "metadata": {},
   "outputs": [],
   "source": [
    "def get_benchmark_set(d, is_test=False):\n",
    "    if(not is_test):\n",
    "        d = get_gain_dataset(d)\n",
    "        d = normalize_dataset(d)\n",
    "    benchmarkSet = get_X(d).tolist()\n",
    "    ys = get_ys(d)\n",
    "    cyTimes = get_cyTimes(d)\n",
    "    cy = get_cy(d)\n",
    "    for index, attributes in enumerate(benchmarkSet):\n",
    "        for time in ys[index]:\n",
    "            attributes.append(time)\n",
    "        attributes.append(cyTimes[index])\n",
    "        attributes.append(cy[index])\n",
    "    return np.array(benchmarkSet)"
   ]
  },
  {
   "cell_type": "code",
   "execution_count": 20,
   "metadata": {},
   "outputs": [],
   "source": [
    "#get_benchmark_set(dataset).shape"
   ]
  },
  {
   "cell_type": "markdown",
   "metadata": {},
   "source": [
    "# Calculating value of the project"
   ]
  },
  {
   "cell_type": "code",
   "execution_count": 21,
   "metadata": {},
   "outputs": [],
   "source": [
    "def percentChange(new, old):\n",
    "    return ((float(old)/new)-1)"
   ]
  },
  {
   "cell_type": "code",
   "execution_count": 22,
   "metadata": {},
   "outputs": [],
   "source": [
    "def getAlgoTime(algoName, row):\n",
    "    for index, algo in enumerate(algos):\n",
    "        if(algoName == algo):\n",
    "            return int(row[len(feature_cols) + index])\n",
    "    print('oups none of the available algos')"
   ]
  },
  {
   "cell_type": "code",
   "execution_count": 23,
   "metadata": {},
   "outputs": [],
   "source": [
    "def getOldSchoolAlgo(n1, n2):\n",
    "    threshold = 64\n",
    "    n1 = float(n1)\n",
    "    n2 = float(n2)\n",
    "    if (n1 * threshold < n2):\n",
    "        return 'skewed_1'\n",
    "    if (n2 * threshold < n1):\n",
    "        return 'skewed_2'\n",
    "    return 'non_skewed'"
   ]
  },
  {
   "cell_type": "code",
   "execution_count": 24,
   "metadata": {},
   "outputs": [],
   "source": [
    "def calculateValueOfML(train, test):\n",
    "    #clf = DecisionTreeClassifier(max_depth=None, random_state=0)\n",
    "    from sklearn.linear_model import SGDClassifier\n",
    "    from sklearn.ensemble import RandomForestClassifier\n",
    "    from sklearn.ensemble import ExtraTreesClassifier\n",
    "    from sklearn.ensemble import GradientBoostingClassifier\n",
    "    #import xgboost as xgb\n",
    "    from xgboost import XGBClassifier\n",
    "    \n",
    "    #clf = GradientBoostingClassifier(n_estimators=100, learning_rate=1, random_state=0)\n",
    "    clf = XGBClassifier(n_estimators=100, learning_rate=1, n_jobs=-1)\n",
    "    clf.fit(train[:, 0:len(feature_cols)], train[:,-1])\n",
    "    \n",
    "    mlChosenAlgos = clf.predict(test[:, 0:len(feature_cols)])\n",
    "\n",
    "    GoodPredictionsCount = 0\n",
    "    mlTotTime = 0\n",
    "    osTotTime = 0\n",
    "    perfectTotTime = 0\n",
    "    for i, algo in enumerate(mlChosenAlgos):\n",
    "        if(algo == test[i,-1]):\n",
    "            GoodPredictionsCount += 1\n",
    "        mlTotTime += getAlgoTime(algo, test[i])\n",
    "        n1 = test[i,feature_cols.index('n1')]\n",
    "        n2 = test[i,feature_cols.index('n2')]\n",
    "        osAlgo = getOldSchoolAlgo(n1 , n2)\n",
    "        osTotTime += getAlgoTime(osAlgo, test[i])\n",
    "        perfectTotTime += int(test[i,-2])\n",
    "\n",
    "    print(\"Average classification precision: %.2f\" % (float(GoodPredictionsCount)/len(mlChosenAlgos)))\n",
    "    print(\"Total ml time: %d\" % mlTotTime)\n",
    "    print(\"Total old school time: %d\" % osTotTime)\n",
    "    print(\"Machine learning is faster by : %.2f\" % percentChange(mlTotTime, osTotTime))\n",
    "    print(\"With perfect prediction : %.2f\" % percentChange(perfectTotTime, osTotTime))"
   ]
  },
  {
   "cell_type": "code",
   "execution_count": 25,
   "metadata": {
    "scrolled": false
   },
   "outputs": [
    {
     "name": "stdout",
     "output_type": "stream",
     "text": [
      "(977169, 8)\n"
     ]
    }
   ],
   "source": [
    "benchmarkSet = get_benchmark_set(dataset)\n",
    "print(benchmarkSet.shape)"
   ]
  },
  {
   "cell_type": "code",
   "execution_count": 26,
   "metadata": {
    "scrolled": true
   },
   "outputs": [
    {
     "name": "stderr",
     "output_type": "stream",
     "text": [
      "/home/jeremie/anaconda2/lib/python2.7/site-packages/sklearn/preprocessing/label.py:151: DeprecationWarning: The truth value of an empty array is ambiguous. Returning False, but in future this will result in an error. Use `array.size > 0` to check that an array is not empty.\n",
      "  if diff:\n"
     ]
    },
    {
     "name": "stdout",
     "output_type": "stream",
     "text": [
      "Average classification precision: 0.98\n",
      "Total ml time: 65520016\n",
      "Total old school time: 4940844501\n",
      "Machine learning is faster by : 74.41\n",
      "With perfect prediction : 93.64\n"
     ]
    }
   ],
   "source": [
    "X_train, X_test, y_train, y_test = train_test_split(benchmarkSet, benchmarkSet, test_size=0.2, random_state=0)\n",
    "calculateValueOfML(X_train, X_test)"
   ]
  },
  {
   "cell_type": "markdown",
   "metadata": {},
   "source": [
    "# Test dataset with other sets "
   ]
  },
  {
   "cell_type": "code",
   "execution_count": 27,
   "metadata": {},
   "outputs": [
    {
     "data": {
      "text/html": [
       "<div>\n",
       "<style scoped>\n",
       "    .dataframe tbody tr th:only-of-type {\n",
       "        vertical-align: middle;\n",
       "    }\n",
       "\n",
       "    .dataframe tbody tr th {\n",
       "        vertical-align: top;\n",
       "    }\n",
       "\n",
       "    .dataframe thead th {\n",
       "        text-align: right;\n",
       "    }\n",
       "</style>\n",
       "<table border=\"1\" class=\"dataframe\">\n",
       "  <thead>\n",
       "    <tr style=\"text-align: right;\">\n",
       "      <th></th>\n",
       "      <th>range</th>\n",
       "      <th>n1</th>\n",
       "      <th>average1</th>\n",
       "      <th>std1</th>\n",
       "      <th>n2</th>\n",
       "      <th>average2</th>\n",
       "      <th>std2</th>\n",
       "      <th>skewed_1</th>\n",
       "      <th>skewed_2</th>\n",
       "      <th>non_skewed</th>\n",
       "      <th>fastest_algo</th>\n",
       "    </tr>\n",
       "  </thead>\n",
       "  <tbody>\n",
       "    <tr>\n",
       "      <th>0</th>\n",
       "      <td>65514</td>\n",
       "      <td>5159</td>\n",
       "      <td>32715.1</td>\n",
       "      <td>19011.6</td>\n",
       "      <td>5159</td>\n",
       "      <td>32715.1</td>\n",
       "      <td>19011.6</td>\n",
       "      <td>201</td>\n",
       "      <td>201</td>\n",
       "      <td>4836</td>\n",
       "      <td>skewed_1</td>\n",
       "    </tr>\n",
       "    <tr>\n",
       "      <th>1</th>\n",
       "      <td>65522</td>\n",
       "      <td>5159</td>\n",
       "      <td>32715.1</td>\n",
       "      <td>19011.6</td>\n",
       "      <td>20529</td>\n",
       "      <td>32865.4</td>\n",
       "      <td>18934.3</td>\n",
       "      <td>531</td>\n",
       "      <td>74</td>\n",
       "      <td>3360</td>\n",
       "      <td>skewed_2</td>\n",
       "    </tr>\n",
       "    <tr>\n",
       "      <th>2</th>\n",
       "      <td>65528</td>\n",
       "      <td>5159</td>\n",
       "      <td>32715.1</td>\n",
       "      <td>19011.6</td>\n",
       "      <td>21816</td>\n",
       "      <td>32739.9</td>\n",
       "      <td>18795.3</td>\n",
       "      <td>277</td>\n",
       "      <td>567</td>\n",
       "      <td>2263</td>\n",
       "      <td>skewed_1</td>\n",
       "    </tr>\n",
       "    <tr>\n",
       "      <th>3</th>\n",
       "      <td>65532</td>\n",
       "      <td>5159</td>\n",
       "      <td>32715.1</td>\n",
       "      <td>19011.6</td>\n",
       "      <td>28031</td>\n",
       "      <td>32948.3</td>\n",
       "      <td>18855.1</td>\n",
       "      <td>202</td>\n",
       "      <td>356</td>\n",
       "      <td>5486</td>\n",
       "      <td>skewed_1</td>\n",
       "    </tr>\n",
       "    <tr>\n",
       "      <th>4</th>\n",
       "      <td>65534</td>\n",
       "      <td>5159</td>\n",
       "      <td>32715.1</td>\n",
       "      <td>19011.6</td>\n",
       "      <td>50980</td>\n",
       "      <td>32726.7</td>\n",
       "      <td>18905.0</td>\n",
       "      <td>245</td>\n",
       "      <td>353</td>\n",
       "      <td>4280</td>\n",
       "      <td>skewed_1</td>\n",
       "    </tr>\n",
       "  </tbody>\n",
       "</table>\n",
       "</div>"
      ],
      "text/plain": [
       "   range    n1  average1     std1     n2  average2     std2  skewed_1  \\\n",
       "0  65514  5159   32715.1  19011.6   5159   32715.1  19011.6       201   \n",
       "1  65522  5159   32715.1  19011.6  20529   32865.4  18934.3       531   \n",
       "2  65528  5159   32715.1  19011.6  21816   32739.9  18795.3       277   \n",
       "3  65532  5159   32715.1  19011.6  28031   32948.3  18855.1       202   \n",
       "4  65534  5159   32715.1  19011.6  50980   32726.7  18905.0       245   \n",
       "\n",
       "   skewed_2  non_skewed fastest_algo  \n",
       "0       201        4836     skewed_1  \n",
       "1        74        3360     skewed_2  \n",
       "2       567        2263     skewed_1  \n",
       "3       356        5486     skewed_1  \n",
       "4       353        4280     skewed_1  "
      ]
     },
     "execution_count": 27,
     "metadata": {},
     "output_type": "execute_result"
    }
   ],
   "source": [
    "test_dataset = pd.read_csv('../results/Intel(R) Core(TM) i7-8700 CPU @ 3.20GHz/Intersect_testset.csv')\n",
    "test_dataset.head(5)"
   ]
  },
  {
   "cell_type": "code",
   "execution_count": 28,
   "metadata": {},
   "outputs": [],
   "source": [
    "train_benchmarkSet = get_benchmark_set(dataset)\n",
    "test_benchmarkSet = get_benchmark_set(test_dataset, is_test=True)"
   ]
  },
  {
   "cell_type": "code",
   "execution_count": 29,
   "metadata": {},
   "outputs": [
    {
     "data": {
      "text/plain": [
       "<matplotlib.axes._subplots.AxesSubplot at 0x7f296f31f610>"
      ]
     },
     "execution_count": 29,
     "metadata": {},
     "output_type": "execute_result"
    },
    {
     "data": {
      "image/png": "[encoded data removed]",
      "text/plain": [
       "<Figure size 432x288 with 1 Axes>"
      ]
     },
     "metadata": {},
     "output_type": "display_data"
    }
   ],
   "source": [
    "sns.set(color_codes=True)\n",
    "sns.countplot(x=\"fastest_algo\", data=test_dataset)"
   ]
  },
  {
   "cell_type": "code",
   "execution_count": 30,
   "metadata": {},
   "outputs": [
    {
     "name": "stdout",
     "output_type": "stream",
     "text": [
      "Average classification precision: 0.45\n",
      "Total ml time: 10542880\n",
      "Total old school time: 365085854\n",
      "Machine learning is faster by : 33.63\n",
      "With perfect prediction : 59.30\n"
     ]
    },
    {
     "name": "stderr",
     "output_type": "stream",
     "text": [
      "/home/jeremie/anaconda2/lib/python2.7/site-packages/sklearn/preprocessing/label.py:151: DeprecationWarning: The truth value of an empty array is ambiguous. Returning False, but in future this will result in an error. Use `array.size > 0` to check that an array is not empty.\n",
      "  if diff:\n"
     ]
    }
   ],
   "source": [
    "calculateValueOfML(train_benchmarkSet, test_benchmarkSet)"
   ]
  },
  {
   "cell_type": "markdown",
   "metadata": {},
   "source": [
    "# Serialize model"
   ]
  },
  {
   "cell_type": "code",
   "execution_count": 31,
   "metadata": {},
   "outputs": [],
   "source": [
    "# from sklearn.externals import joblib\n",
    "\n",
    "# clf = DecisionTreeClassifier(max_depth=None, random_state=0)\n",
    "# clf.fit(X, cy)\n",
    "# joblib.dump(clf, '.joblib')"
   ]
  },
  {
   "cell_type": "code",
   "execution_count": 32,
   "metadata": {},
   "outputs": [
    {
     "data": {
      "text/plain": [
       "11.287712379549449"
      ]
     },
     "execution_count": 32,
     "metadata": {},
     "output_type": "execute_result"
    }
   ],
   "source": [
    "math.log(2500, 2)"
   ]
  },
  {
   "cell_type": "code",
   "execution_count": null,
   "metadata": {},
   "outputs": [],
   "source": []
  }
 ],
 "metadata": {
  "kernelspec": {
   "display_name": "Python 2",
   "language": "python",
   "name": "python2"
  },
  "language_info": {
   "codemirror_mode": {
    "name": "ipython",
    "version": 2
   },
   "file_extension": ".py",
   "mimetype": "text/x-python",
   "name": "python",
   "nbconvert_exporter": "python",
   "pygments_lexer": "ipython2",
   "version": "2.7.15"
  }
 },
 "nbformat": 4,
 "nbformat_minor": 2
}
