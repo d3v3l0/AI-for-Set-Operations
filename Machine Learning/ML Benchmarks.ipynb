{
 "cells": [
  {
   "cell_type": "markdown",
   "metadata": {},
   "source": [
    "# Imports"
   ]
  },
  {
   "cell_type": "code",
   "execution_count": 2,
   "metadata": {},
   "outputs": [],
   "source": [
    "import pandas as pd\n",
    "import numpy as np\n",
    "from sklearn.model_selection import train_test_split\n",
    "from sklearn.tree import DecisionTreeClassifier"
   ]
  },
  {
   "cell_type": "markdown",
   "metadata": {},
   "source": [
    "# Loading CSV"
   ]
  },
  {
   "cell_type": "code",
   "execution_count": 3,
   "metadata": {},
   "outputs": [
    {
     "data": {
      "text/html": [
       "<div>\n",
       "<style scoped>\n",
       "    .dataframe tbody tr th:only-of-type {\n",
       "        vertical-align: middle;\n",
       "    }\n",
       "\n",
       "    .dataframe tbody tr th {\n",
       "        vertical-align: top;\n",
       "    }\n",
       "\n",
       "    .dataframe thead th {\n",
       "        text-align: right;\n",
       "    }\n",
       "</style>\n",
       "<table border=\"1\" class=\"dataframe\">\n",
       "  <thead>\n",
       "    <tr style=\"text-align: right;\">\n",
       "      <th></th>\n",
       "      <th>range</th>\n",
       "      <th>n1</th>\n",
       "      <th>average1</th>\n",
       "      <th>std1</th>\n",
       "      <th>n2</th>\n",
       "      <th>average2</th>\n",
       "      <th>std2</th>\n",
       "      <th>skewed_1</th>\n",
       "      <th>skewed_2</th>\n",
       "      <th>non_skewed</th>\n",
       "    </tr>\n",
       "  </thead>\n",
       "  <tbody>\n",
       "    <tr>\n",
       "      <th>0</th>\n",
       "      <td>65535</td>\n",
       "      <td>169096</td>\n",
       "      <td>19337.2</td>\n",
       "      <td>21706.3</td>\n",
       "      <td>169096</td>\n",
       "      <td>19337.2</td>\n",
       "      <td>21706.3</td>\n",
       "      <td>4211</td>\n",
       "      <td>1970</td>\n",
       "      <td>155304</td>\n",
       "    </tr>\n",
       "    <tr>\n",
       "      <th>1</th>\n",
       "      <td>65535</td>\n",
       "      <td>169096</td>\n",
       "      <td>19337.2</td>\n",
       "      <td>21706.3</td>\n",
       "      <td>46</td>\n",
       "      <td>20595.6</td>\n",
       "      <td>23630.1</td>\n",
       "      <td>40268</td>\n",
       "      <td>274</td>\n",
       "      <td>7254</td>\n",
       "    </tr>\n",
       "    <tr>\n",
       "      <th>2</th>\n",
       "      <td>65535</td>\n",
       "      <td>169096</td>\n",
       "      <td>19337.2</td>\n",
       "      <td>21706.3</td>\n",
       "      <td>17648</td>\n",
       "      <td>19492.5</td>\n",
       "      <td>21753.7</td>\n",
       "      <td>2630</td>\n",
       "      <td>555</td>\n",
       "      <td>46111</td>\n",
       "    </tr>\n",
       "    <tr>\n",
       "      <th>3</th>\n",
       "      <td>65535</td>\n",
       "      <td>169096</td>\n",
       "      <td>19337.2</td>\n",
       "      <td>21706.3</td>\n",
       "      <td>240934</td>\n",
       "      <td>19336.5</td>\n",
       "      <td>21696.3</td>\n",
       "      <td>4364</td>\n",
       "      <td>2876</td>\n",
       "      <td>543650</td>\n",
       "    </tr>\n",
       "    <tr>\n",
       "      <th>4</th>\n",
       "      <td>65535</td>\n",
       "      <td>169096</td>\n",
       "      <td>19337.2</td>\n",
       "      <td>21706.3</td>\n",
       "      <td>3018</td>\n",
       "      <td>19249.9</td>\n",
       "      <td>21904.1</td>\n",
       "      <td>2188</td>\n",
       "      <td>568</td>\n",
       "      <td>15549</td>\n",
       "    </tr>\n",
       "  </tbody>\n",
       "</table>\n",
       "</div>"
      ],
      "text/plain": [
       "   range      n1  average1      std1      n2  average2      std2  skewed_1  \\\n",
       "0  65535  169096   19337.2   21706.3  169096   19337.2   21706.3      4211   \n",
       "1  65535  169096   19337.2   21706.3      46   20595.6   23630.1     40268   \n",
       "2  65535  169096   19337.2   21706.3   17648   19492.5   21753.7      2630   \n",
       "3  65535  169096   19337.2   21706.3  240934   19336.5   21696.3      4364   \n",
       "4  65535  169096   19337.2   21706.3    3018   19249.9   21904.1      2188   \n",
       "\n",
       "   skewed_2  non_skewed  \n",
       "0      1970      155304  \n",
       "1       274        7254  \n",
       "2       555       46111  \n",
       "3      2876      543650  \n",
       "4       568       15549  "
      ]
     },
     "execution_count": 3,
     "metadata": {},
     "output_type": "execute_result"
    }
   ],
   "source": [
    "dataset = pd.read_csv('../results/Intel(R) Core(TM) i7-8700 CPU @ 3.20GHz/census-income/Intersect_dataset.csv')\n",
    "dataset.columns = dataset.columns.str.strip()\n",
    "dataset.head()"
   ]
  },
  {
   "cell_type": "markdown",
   "metadata": {},
   "source": [
    "# Building Dataset"
   ]
  },
  {
   "cell_type": "code",
   "execution_count": 4,
   "metadata": {},
   "outputs": [],
   "source": [
    "feature_cols = ['range', 'n1', 'n2']"
   ]
  },
  {
   "cell_type": "code",
   "execution_count": 5,
   "metadata": {},
   "outputs": [
    {
     "data": {
      "text/plain": [
       "(40000, 3)"
      ]
     },
     "execution_count": 5,
     "metadata": {},
     "output_type": "execute_result"
    }
   ],
   "source": [
    "X = dataset.loc[:, feature_cols]\n",
    "X = X.values\n",
    "X.shape"
   ]
  },
  {
   "cell_type": "code",
   "execution_count": 6,
   "metadata": {},
   "outputs": [
    {
     "data": {
      "text/plain": [
       "(3, 40000)"
      ]
     },
     "execution_count": 6,
     "metadata": {},
     "output_type": "execute_result"
    }
   ],
   "source": [
    "algos = ['skewed_1', 'skewed_2', 'non_skewed']\n",
    "ys = []\n",
    "for algo in algos:\n",
    "    y = dataset.loc[:, algo]\n",
    "    ys.append(y)\n",
    "np.array(ys).shape"
   ]
  },
  {
   "cell_type": "code",
   "execution_count": 7,
   "metadata": {},
   "outputs": [],
   "source": [
    "def getClassificationY():\n",
    "    cy = []\n",
    "    cyTimes = []\n",
    "    for i in range(len(ys[0])):\n",
    "        minVal = float(\"inf\")\n",
    "        minName = \"\"\n",
    "        for j, y in enumerate(ys):\n",
    "            if (minVal > y[i]):\n",
    "                minVal = y[i]\n",
    "                minName = algos[j]\n",
    "        cy.append(minName)\n",
    "        cyTimes.append(minVal)\n",
    "    cy = np.array(cy)\n",
    "    return cy, cyTimes"
   ]
  },
  {
   "cell_type": "code",
   "execution_count": 10,
   "metadata": {},
   "outputs": [
    {
     "data": {
      "text/plain": [
       "(40000,)"
      ]
     },
     "execution_count": 10,
     "metadata": {},
     "output_type": "execute_result"
    }
   ],
   "source": [
    "cy, cyTimes = getClassificationY()\n",
    "cy.shape"
   ]
  },
  {
   "cell_type": "code",
   "execution_count": 120,
   "metadata": {},
   "outputs": [],
   "source": [
    "def getBenchmarkSet():\n",
    "    benchmarkSet = X.tolist()\n",
    "    for index, attributes in enumerate(benchmarkSet):\n",
    "        for times in ys:\n",
    "            attributes.append(times[index])\n",
    "        attributes.append(cyTimes[index])\n",
    "        attributes.append(cy[index])\n",
    "    return np.array(benchmarkSet)"
   ]
  },
  {
   "cell_type": "code",
   "execution_count": 121,
   "metadata": {},
   "outputs": [
    {
     "data": {
      "text/plain": [
       "(39601, 8)"
      ]
     },
     "execution_count": 121,
     "metadata": {},
     "output_type": "execute_result"
    }
   ],
   "source": [
    "benchmarkSet = getBenchmarkSet()\n",
    "benchmarkSet.shape"
   ]
  },
  {
   "cell_type": "code",
   "execution_count": 122,
   "metadata": {},
   "outputs": [],
   "source": [
    "def clfSplit():\n",
    "    return train_test_split(X, cy, test_size=0.2, random_state=0)"
   ]
  },
  {
   "cell_type": "markdown",
   "metadata": {},
   "source": [
    "# Calculating value of the project"
   ]
  },
  {
   "cell_type": "code",
   "execution_count": 123,
   "metadata": {},
   "outputs": [],
   "source": [
    "def percentChange(new, old):\n",
    "    return ((float(old)/new)-1)"
   ]
  },
  {
   "cell_type": "code",
   "execution_count": 124,
   "metadata": {},
   "outputs": [],
   "source": [
    "def getAlgoTime(algoName, row):\n",
    "    for index, algo in enumerate(algos):\n",
    "        if(algoName == algo):\n",
    "            return int(row[len(X[0]) + index])\n",
    "    print('oups none of the available algos')"
   ]
  },
  {
   "cell_type": "code",
   "execution_count": 125,
   "metadata": {},
   "outputs": [],
   "source": [
    "def getOldSchoolAlgo(n1, n2):\n",
    "    threshold = 64\n",
    "    n1 = float(n1)\n",
    "    n2 = float(n2)\n",
    "    if (n1 * threshold < n2):\n",
    "        return 'skewed_1'\n",
    "    if (n2 * threshold < n1):\n",
    "        return 'skewed_2'\n",
    "    return 'non_skewed'"
   ]
  },
  {
   "cell_type": "code",
   "execution_count": 126,
   "metadata": {},
   "outputs": [],
   "source": [
    "def calculateValueOfML():\n",
    "    X_train, X_test, y_train, y_test = train_test_split(benchmarkSet, benchmarkSet, test_size=0.3, random_state=0)\n",
    "    \n",
    "    clf = DecisionTreeClassifier(max_depth=None, random_state=0)\n",
    "    clf.fit(X_train[:, 0:len(X[0])], y_train[:,-1])\n",
    "\n",
    "    mlChosenAlgos = clf.predict(X_test[:, 0:len(X[0])])\n",
    "\n",
    "    GoodPredictionsCount = 0\n",
    "    mlTotTime = 0\n",
    "    osTotTime = 0\n",
    "    perfectTotTime = 0\n",
    "    for i, algo in enumerate(mlChosenAlgos):\n",
    "        if(algo == y_test[i,-1]):\n",
    "            GoodPredictionsCount += 1\n",
    "        mlTotTime += getAlgoTime(algo, y_test[i])\n",
    "        n1 = y_test[i,feature_cols.index('n1')]\n",
    "        n2 = y_test[i,feature_cols.index('n2')]\n",
    "        osAlgo = getOldSchoolAlgo(n1 , n2)\n",
    "        #print(osAlgo)\n",
    "        osTotTime += getAlgoTime(osAlgo, y_test[i])\n",
    "        perfectTotTime += int(y_test[i,-2])\n",
    "\n",
    "    print(\"Average classification precision: %.2f\" % (float(GoodPredictionsCount)/len(mlChosenAlgos)))\n",
    "    print(\"Total ml time: %d\" % mlTotTime)\n",
    "    print(\"Total old school time: %d\" % osTotTime)\n",
    "    print(\"Machine learning is faster by : %.2f\" % percentChange(mlTotTime, osTotTime))\n",
    "    print(\"With perfect prediction : %.2f\" % percentChange(perfectTotTime, osTotTime))"
   ]
  },
  {
   "cell_type": "code",
   "execution_count": 127,
   "metadata": {
    "scrolled": true
   },
   "outputs": [
    {
     "name": "stdout",
     "output_type": "stream",
     "text": [
      "['65535.0' '240934.0' '9764.0' '3096' '1253' '41042' '1253' 'skewed_2']\n",
      "Average classification precision: 0.87\n",
      "Total ml time: 10222464\n",
      "Total old school time: 438668374\n",
      "Machine learning is faster by : 41.91\n",
      "With perfect prediction : 44.55\n"
     ]
    }
   ],
   "source": [
    "calculateValueOfML()"
   ]
  },
  {
   "cell_type": "markdown",
   "metadata": {},
   "source": [
    "# Serialize model"
   ]
  },
  {
   "cell_type": "code",
   "execution_count": null,
   "metadata": {},
   "outputs": [],
   "source": [
    "# from sklearn.externals import joblib\n",
    "\n",
    "# clf = DecisionTreeClassifier(max_depth=None, random_state=0)\n",
    "# clf.fit(X, cy)\n",
    "# joblib.dump(clf, '.joblib')"
   ]
  },
  {
   "cell_type": "code",
   "execution_count": null,
   "metadata": {},
   "outputs": [],
   "source": []
  }
 ],
 "metadata": {
  "kernelspec": {
   "display_name": "Python 2",
   "language": "python",
   "name": "python2"
  },
  "language_info": {
   "codemirror_mode": {
    "name": "ipython",
    "version": 2
   },
   "file_extension": ".py",
   "mimetype": "text/x-python",
   "name": "python",
   "nbconvert_exporter": "python",
   "pygments_lexer": "ipython2",
   "version": "2.7.15"
  }
 },
 "nbformat": 4,
 "nbformat_minor": 2
}
