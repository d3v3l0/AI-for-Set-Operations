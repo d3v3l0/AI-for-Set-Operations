{
 "cells": [
  {
   "cell_type": "markdown",
   "metadata": {},
   "source": [
    "### Imports"
   ]
  },
  {
   "cell_type": "code",
   "execution_count": 3,
   "metadata": {},
   "outputs": [],
   "source": [
    "import pandas as pd\n",
    "import numpy as np\n",
    "import matplotlib.pyplot as plt\n",
    "import os\n",
    "from sklearn.model_selection import train_test_split\n",
    "from sklearn import preprocessing\n",
    "from sklearn.linear_model import LinearRegression\n",
    "from sklearn.linear_model import SGDRegressor\n",
    "from yellowbrick.regressor import PredictionError\n",
    "from yellowbrick.features.importances import FeatureImportances\n",
    "from yellowbrick.model_selection import LearningCurve\n",
    "from yellowbrick.model_selection import ValidationCurve\n",
    "from yellowbrick.classifier import ClassificationReport\n",
    "from sklearn.ensemble import RandomForestClassifier\n",
    "from yellowbrick.classifier import ConfusionMatrix\n",
    "from sklearn.model_selection import StratifiedKFold\n",
    "from sklearn_porter import Porter"
   ]
  },
  {
   "cell_type": "markdown",
   "metadata": {},
   "source": [
    "### Load data"
   ]
  },
  {
   "cell_type": "code",
   "execution_count": 5,
   "metadata": {
    "scrolled": true
   },
   "outputs": [
    {
     "data": {
      "text/html": [
       "<div>\n",
       "<style scoped>\n",
       "    .dataframe tbody tr th:only-of-type {\n",
       "        vertical-align: middle;\n",
       "    }\n",
       "\n",
       "    .dataframe tbody tr th {\n",
       "        vertical-align: top;\n",
       "    }\n",
       "\n",
       "    .dataframe thead th {\n",
       "        text-align: right;\n",
       "    }\n",
       "</style>\n",
       "<table border=\"1\" class=\"dataframe\">\n",
       "  <thead>\n",
       "    <tr style=\"text-align: right;\">\n",
       "      <th></th>\n",
       "      <th>range</th>\n",
       "      <th>n1</th>\n",
       "      <th>average1</th>\n",
       "      <th>std1</th>\n",
       "      <th>n2</th>\n",
       "      <th>average2</th>\n",
       "      <th>std2</th>\n",
       "      <th>skewed_1</th>\n",
       "      <th>skewed_2</th>\n",
       "      <th>non_skewed</th>\n",
       "      <th>fastest_algo</th>\n",
       "    </tr>\n",
       "  </thead>\n",
       "  <tbody>\n",
       "    <tr>\n",
       "      <th>0</th>\n",
       "      <td>65518</td>\n",
       "      <td>9862</td>\n",
       "      <td>16767.2</td>\n",
       "      <td>21066.0</td>\n",
       "      <td>9862</td>\n",
       "      <td>16767.2</td>\n",
       "      <td>21066.0</td>\n",
       "      <td>1744</td>\n",
       "      <td>376</td>\n",
       "      <td>9057</td>\n",
       "      <td>skewed_2</td>\n",
       "    </tr>\n",
       "    <tr>\n",
       "      <th>1</th>\n",
       "      <td>65518</td>\n",
       "      <td>9862</td>\n",
       "      <td>16767.2</td>\n",
       "      <td>21066.0</td>\n",
       "      <td>10</td>\n",
       "      <td>20967.0</td>\n",
       "      <td>22080.1</td>\n",
       "      <td>433</td>\n",
       "      <td>219</td>\n",
       "      <td>151</td>\n",
       "      <td>non_skewed</td>\n",
       "    </tr>\n",
       "    <tr>\n",
       "      <th>2</th>\n",
       "      <td>65518</td>\n",
       "      <td>9862</td>\n",
       "      <td>16767.2</td>\n",
       "      <td>21066.0</td>\n",
       "      <td>4</td>\n",
       "      <td>21096.2</td>\n",
       "      <td>24358.7</td>\n",
       "      <td>396</td>\n",
       "      <td>76</td>\n",
       "      <td>113</td>\n",
       "      <td>skewed_2</td>\n",
       "    </tr>\n",
       "    <tr>\n",
       "      <th>3</th>\n",
       "      <td>65518</td>\n",
       "      <td>9862</td>\n",
       "      <td>16767.2</td>\n",
       "      <td>21066.0</td>\n",
       "      <td>48</td>\n",
       "      <td>22803.3</td>\n",
       "      <td>22462.6</td>\n",
       "      <td>467</td>\n",
       "      <td>258</td>\n",
       "      <td>15599</td>\n",
       "      <td>skewed_2</td>\n",
       "    </tr>\n",
       "    <tr>\n",
       "      <th>4</th>\n",
       "      <td>65518</td>\n",
       "      <td>9862</td>\n",
       "      <td>16767.2</td>\n",
       "      <td>21066.0</td>\n",
       "      <td>3131</td>\n",
       "      <td>17175.5</td>\n",
       "      <td>21213.4</td>\n",
       "      <td>908</td>\n",
       "      <td>411</td>\n",
       "      <td>1413</td>\n",
       "      <td>skewed_2</td>\n",
       "    </tr>\n",
       "  </tbody>\n",
       "</table>\n",
       "</div>"
      ],
      "text/plain": [
       "   range    n1  average1     std1    n2  average2     std2  skewed_1  \\\n",
       "0  65518  9862   16767.2  21066.0  9862   16767.2  21066.0      1744   \n",
       "1  65518  9862   16767.2  21066.0    10   20967.0  22080.1       433   \n",
       "2  65518  9862   16767.2  21066.0     4   21096.2  24358.7       396   \n",
       "3  65518  9862   16767.2  21066.0    48   22803.3  22462.6       467   \n",
       "4  65518  9862   16767.2  21066.0  3131   17175.5  21213.4       908   \n",
       "\n",
       "   skewed_2  non_skewed fastest_algo  \n",
       "0       376        9057     skewed_2  \n",
       "1       219         151   non_skewed  \n",
       "2        76         113     skewed_2  \n",
       "3       258       15599     skewed_2  \n",
       "4       411        1413     skewed_2  "
      ]
     },
     "execution_count": 5,
     "metadata": {},
     "output_type": "execute_result"
    }
   ],
   "source": [
    "dataset = pd.read_csv('../results/Intel(R) Core(TM) i7-8700 CPU @ 3.20GHz/Intersect_masterset.csv')\n",
    "dataset.columns = dataset.columns.str.strip()\n",
    "dataset.head()"
   ]
  },
  {
   "cell_type": "markdown",
   "metadata": {},
   "source": [
    "### Shape datasets"
   ]
  },
  {
   "cell_type": "code",
   "execution_count": 6,
   "metadata": {},
   "outputs": [],
   "source": [
    "feature_cols = ['average1', 'n1','n2', 'average2']"
   ]
  },
  {
   "cell_type": "code",
   "execution_count": 7,
   "metadata": {},
   "outputs": [],
   "source": [
    "#feature_cols = ['n1', 'n2']"
   ]
  },
  {
   "cell_type": "code",
   "execution_count": 8,
   "metadata": {},
   "outputs": [
    {
     "data": {
      "text/plain": [
       "(640000, 4)"
      ]
     },
     "execution_count": 8,
     "metadata": {},
     "output_type": "execute_result"
    }
   ],
   "source": [
    "# All rows, and the feature_cols' columns\n",
    "X = dataset.loc[:, feature_cols]\n",
    "#scaler = preprocessing.StandardScaler()\n",
    "#X = scaler.fit_transform(X)\n",
    "X.shape"
   ]
  },
  {
   "cell_type": "code",
   "execution_count": 9,
   "metadata": {},
   "outputs": [
    {
     "data": {
      "text/plain": [
       "(640000,)"
      ]
     },
     "execution_count": 9,
     "metadata": {},
     "output_type": "execute_result"
    }
   ],
   "source": [
    "ys = []\n",
    "algos = ['skewed_1', 'skewed_2', 'non_skewed']\n",
    "for algo in algos:\n",
    "    y = dataset.loc[:, algo]\n",
    "    ys.append(y)\n",
    "y.shape"
   ]
  },
  {
   "cell_type": "code",
   "execution_count": 10,
   "metadata": {},
   "outputs": [
    {
     "data": {
      "text/plain": [
       "'train: (512000,) test: (128000,)'"
      ]
     },
     "execution_count": 10,
     "metadata": {},
     "output_type": "execute_result"
    }
   ],
   "source": [
    "sets = []\n",
    "for index, y in enumerate(ys):  \n",
    "    X_train, X_test, y_train, y_test = train_test_split(X, y, test_size=0.2, random_state=0)\n",
    "    sets.append((X_train, X_test, y_train, y_test, algos[index]))\n",
    "\"train: \" + str(y_train.shape) + \" test: \" + str(y_test.shape)"
   ]
  },
  {
   "cell_type": "markdown",
   "metadata": {},
   "source": [
    "# Regression"
   ]
  },
  {
   "cell_type": "markdown",
   "metadata": {},
   "source": [
    "### Train regression model"
   ]
  },
  {
   "cell_type": "code",
   "execution_count": 13,
   "metadata": {},
   "outputs": [],
   "source": [
    "def regPredictionError():\n",
    "    fig = plt.figure()\n",
    "    fig.subplots_adjust(bottom= 1, top= 3.5, left=1, right=3)\n",
    "    for index, (X_train, X_test, y_train, y_test, filename) in enumerate(sets):\n",
    "        ax = fig.add_subplot(2,2,index+1)\n",
    "\n",
    "        visualizer = PredictionError(LinearRegression(n_jobs=-1), ax=ax)\n",
    "\n",
    "        visualizer.fit(X_train, y_train)\n",
    "        visualizer.score(X_test, y_test)\n",
    "        visualizer.finalize()\n",
    "        ax.set_title(filename)\n",
    "    plt.show()"
   ]
  },
  {
   "cell_type": "code",
   "execution_count": 14,
   "metadata": {},
   "outputs": [
    {
     "data": {
      "image/png": "[encoded data removed]",
      "text/plain": [
       "<Figure size 432x288 with 3 Axes>"
      ]
     },
     "metadata": {},
     "output_type": "display_data"
    }
   ],
   "source": [
    "regPredictionError()"
   ]
  },
  {
   "cell_type": "markdown",
   "metadata": {},
   "source": [
    "### Regression Feature Importances"
   ]
  },
  {
   "cell_type": "code",
   "execution_count": 20,
   "metadata": {},
   "outputs": [],
   "source": [
    "def regFeatureImportances():\n",
    "    fig = plt.figure()\n",
    "    fig.subplots_adjust(bottom= 1, top= 3.5, left=1, right=3)\n",
    "    for index, y in enumerate(ys):\n",
    "        ax = fig.add_subplot(2,2,index+1)\n",
    "        labels = list(map(lambda s: s.title(), feature_cols))\n",
    "        viz = FeatureImportances(LinearRegression(n_jobs=-1), labels=labels, ax=ax, relative=False)\n",
    "        viz.fit(X, y)\n",
    "        ax.set_title(algos[index])\n",
    "        ax.set_xlabel(\"Coefficient value\")\n",
    "    plt.show()"
   ]
  },
  {
   "cell_type": "code",
   "execution_count": 19,
   "metadata": {},
   "outputs": [
    {
     "data": {
      "image/png": "[encoded data removed]",
      "text/plain": [
       "<Figure size 432x288 with 3 Axes>"
      ]
     },
     "metadata": {},
     "output_type": "display_data"
    }
   ],
   "source": [
    "regFeatureImportances()"
   ]
  },
  {
   "cell_type": "markdown",
   "metadata": {},
   "source": [
    "### Regression Learning Curve"
   ]
  },
  {
   "cell_type": "code",
   "execution_count": null,
   "metadata": {},
   "outputs": [],
   "source": [
    "def regLearningCurve():\n",
    "    sizes = np.linspace(0.3, 1.0, 10)\n",
    "\n",
    "    fig = plt.figure()\n",
    "    fig.subplots_adjust(bottom= 1, top= 3.5, left=1, right=3)\n",
    "    for index, y in enumerate(ys):\n",
    "        ax = fig.add_subplot(2,2,index+1)\n",
    "        viz = LearningCurve(LinearRegression(n_jobs=-1), scoring='r2', train_sizes=sizes, n_jobs=4, ax=ax)\n",
    "        viz.fit(X, y)\n",
    "        viz.finalize()\n",
    "        ax.set_title(algos[index])\n",
    "    plt.show()"
   ]
  },
  {
   "cell_type": "code",
   "execution_count": null,
   "metadata": {},
   "outputs": [],
   "source": [
    "regLearningCurve()"
   ]
  },
  {
   "cell_type": "markdown",
   "metadata": {},
   "source": [
    "### Regression Validation Curve"
   ]
  },
  {
   "cell_type": "code",
   "execution_count": null,
   "metadata": {},
   "outputs": [],
   "source": [
    "def regValidationCurve():\n",
    "    param_range = np.arange(100, 1000, 100)\n",
    "    fig = plt.figure()\n",
    "    fig.subplots_adjust(bottom= 1, top= 3.5, left=1, right=3)\n",
    "    for index, y in enumerate(ys):\n",
    "        ax = fig.add_subplot(2,2,index+1)\n",
    "        viz = ValidationCurve(\n",
    "        SGDRegressor(), param_name=\"max_iter\", param_range=param_range,\n",
    "            scoring=\"r2\", n_jobs=4, ax=ax)\n",
    "        viz.fit(X, y)\n",
    "        viz.finalize()\n",
    "        ax.set_title(algos[index])\n",
    "    plt.show()"
   ]
  },
  {
   "cell_type": "code",
   "execution_count": null,
   "metadata": {},
   "outputs": [],
   "source": [
    "regValidationCurve()"
   ]
  },
  {
   "cell_type": "markdown",
   "metadata": {},
   "source": [
    "# Classification"
   ]
  },
  {
   "cell_type": "code",
   "execution_count": 21,
   "metadata": {},
   "outputs": [],
   "source": [
    "# Make images larger\n",
    "import matplotlib as mpl\n",
    "plt.rcParams['figure.dpi'] = 125"
   ]
  },
  {
   "cell_type": "markdown",
   "metadata": {},
   "source": [
    "### Build Classification dataset"
   ]
  },
  {
   "cell_type": "code",
   "execution_count": 22,
   "metadata": {
    "scrolled": false
   },
   "outputs": [
    {
     "data": {
      "text/plain": [
       "['range',\n",
       " 'n1',\n",
       " 'average1',\n",
       " 'std1',\n",
       " 'n2',\n",
       " 'average2',\n",
       " 'std2',\n",
       " 'skewed_1',\n",
       " 'skewed_2',\n",
       " 'non_skewed',\n",
       " 'fastest_algo']"
      ]
     },
     "execution_count": 22,
     "metadata": {},
     "output_type": "execute_result"
    }
   ],
   "source": [
    "list(dataset)"
   ]
  },
  {
   "cell_type": "code",
   "execution_count": 23,
   "metadata": {},
   "outputs": [],
   "source": [
    "feature_cols = ['range',\n",
    " 'n1',\n",
    " 'average1',\n",
    " 'median1',\n",
    " 'std1',\n",
    " 'n2',\n",
    " 'average2',\n",
    " 'median2',\n",
    " 'std2'\n",
    "]"
   ]
  },
  {
   "cell_type": "code",
   "execution_count": 24,
   "metadata": {},
   "outputs": [
    {
     "name": "stderr",
     "output_type": "stream",
     "text": [
      "/home/jeremie/anaconda2/lib/python2.7/site-packages/pandas/core/indexing.py:1472: FutureWarning: \n",
      "Passing list-likes to .loc or [] with any missing label will raise\n",
      "KeyError in the future, you can use .reindex() as an alternative.\n",
      "\n",
      "See the documentation here:\n",
      "https://pandas.pydata.org/pandas-docs/stable/indexing.html#deprecate-loc-reindex-listlike\n",
      "  return self._getitem_tuple(key)\n"
     ]
    }
   ],
   "source": [
    "X = dataset.loc[:, feature_cols]\n",
    "# scaler = preprocessing.StandardScaler()\n",
    "# X = scaler.fit_transform(X)\n",
    "X = X.values"
   ]
  },
  {
   "cell_type": "code",
   "execution_count": 25,
   "metadata": {},
   "outputs": [
    {
     "data": {
      "text/plain": [
       "(640000,)"
      ]
     },
     "execution_count": 25,
     "metadata": {},
     "output_type": "execute_result"
    }
   ],
   "source": [
    "cy = []\n",
    "cyTimes = []\n",
    "for i in range(len(ys[0])):\n",
    "    minVal = float(\"inf\")\n",
    "    minName = \"\"\n",
    "    for j, y in enumerate(ys):\n",
    "        if (minVal > y[i]):\n",
    "            minVal = y[i]\n",
    "            minName = algos[j]\n",
    "    cy.append(minName)\n",
    "    cyTimes.append(minVal)\n",
    "cy = np.array(cy)\n",
    "cy.shape"
   ]
  },
  {
   "cell_type": "code",
   "execution_count": null,
   "metadata": {},
   "outputs": [],
   "source": [
    "def clfSplit():\n",
    "    return train_test_split(X, cy, test_size=0.2, random_state=0)"
   ]
  },
  {
   "cell_type": "markdown",
   "metadata": {},
   "source": [
    "### Train Classification model"
   ]
  },
  {
   "cell_type": "code",
   "execution_count": null,
   "metadata": {},
   "outputs": [],
   "source": [
    "def clfReport():\n",
    "    X_train, X_test, y_train, y_test = clfSplit()\n",
    "    visualizer = ClassificationReport(RandomForestClassifier(n_estimators=5), support='percent')\n",
    "\n",
    "    visualizer.fit(X_train, y_train)\n",
    "    visualizer.score(X_test, y_test)\n",
    "    visualizer.poof()"
   ]
  },
  {
   "cell_type": "code",
   "execution_count": null,
   "metadata": {},
   "outputs": [],
   "source": [
    "clfReport()"
   ]
  },
  {
   "cell_type": "markdown",
   "metadata": {},
   "source": [
    "### Confusion Matrix"
   ]
  },
  {
   "cell_type": "code",
   "execution_count": null,
   "metadata": {},
   "outputs": [],
   "source": [
    "def confusionMatrix():\n",
    "    X_train, X_test, y_train, y_test = clfSplit()\n",
    "    cm = ConfusionMatrix(RandomForestClassifier(n_estimators=5))\n",
    "    cm.fit(X_train, y_train)\n",
    "    cm.score(X_test, y_test)\n",
    "\n",
    "    cm.poof()"
   ]
  },
  {
   "cell_type": "code",
   "execution_count": null,
   "metadata": {},
   "outputs": [],
   "source": [
    "confusionMatrix()"
   ]
  },
  {
   "cell_type": "markdown",
   "metadata": {},
   "source": [
    "### Classification Feature importances"
   ]
  },
  {
   "cell_type": "code",
   "execution_count": null,
   "metadata": {},
   "outputs": [],
   "source": [
    "def clfFeatureImportances():\n",
    "    labels = list(map(lambda s: s.title(), feature_cols))\n",
    "    viz = FeatureImportances(RandomForestClassifier(n_estimators=5), labels=labels, relative=True)\n",
    "    viz.fit(X, cy)\n",
    "    viz.poof()"
   ]
  },
  {
   "cell_type": "code",
   "execution_count": null,
   "metadata": {},
   "outputs": [],
   "source": [
    "clfFeatureImportances()"
   ]
  },
  {
   "cell_type": "markdown",
   "metadata": {},
   "source": [
    "### Classification learning curve"
   ]
  },
  {
   "cell_type": "code",
   "execution_count": null,
   "metadata": {},
   "outputs": [],
   "source": [
    "def clfLearningCurve():\n",
    "    sizes = np.linspace(0.15, 1.0, 10)\n",
    "\n",
    "    viz = LearningCurve(\n",
    "        RandomForestClassifier(n_estimators=10), train_sizes=sizes,\n",
    "        scoring='f1_weighted', n_jobs=-1\n",
    "    )\n",
    "\n",
    "    viz.fit(X, cy)\n",
    "    viz.poof()"
   ]
  },
  {
   "cell_type": "code",
   "execution_count": null,
   "metadata": {},
   "outputs": [],
   "source": [
    "clfLearningCurve()"
   ]
  },
  {
   "cell_type": "markdown",
   "metadata": {},
   "source": [
    "### Classification Validation Curve"
   ]
  },
  {
   "cell_type": "code",
   "execution_count": null,
   "metadata": {},
   "outputs": [],
   "source": [
    "def clfValidationCurve():\n",
    "    param_range = np.arange(1, 30, 1)\n",
    "\n",
    "    viz = ValidationCurve(\n",
    "        RandomForestClassifier(), param_name=\"n_estimators\", param_range=param_range,\n",
    "        scoring=\"f1_weighted\", n_jobs=-1)\n",
    "\n",
    "    viz.fit(X, cy)\n",
    "    viz.poof()"
   ]
  },
  {
   "cell_type": "code",
   "execution_count": null,
   "metadata": {},
   "outputs": [],
   "source": [
    "clfValidationCurve()"
   ]
  },
  {
   "cell_type": "markdown",
   "metadata": {},
   "source": [
    "### Export Classification model to C"
   ]
  },
  {
   "cell_type": "code",
   "execution_count": null,
   "metadata": {},
   "outputs": [],
   "source": [
    "def exportClassifierToC():\n",
    "    clf = DecisionTreeClassifier(max_depth=1)\n",
    "    clf.fit(X, cy)\n",
    "\n",
    "    porter = Porter(clf, language='c')\n",
    "    output = porter.export(embed_data=True)\n",
    "\n",
    "    with open('tree.c', 'w') as f:\n",
    "        f.write(output)"
   ]
  },
  {
   "cell_type": "code",
   "execution_count": null,
   "metadata": {},
   "outputs": [],
   "source": [
    "exportClassifierToC()"
   ]
  },
  {
   "cell_type": "code",
   "execution_count": null,
   "metadata": {},
   "outputs": [],
   "source": []
  }
 ],
 "metadata": {
  "kernelspec": {
   "display_name": "Python 2",
   "language": "python",
   "name": "python2"
  },
  "language_info": {
   "codemirror_mode": {
    "name": "ipython",
    "version": 2
   },
   "file_extension": ".py",
   "mimetype": "text/x-python",
   "name": "python",
   "nbconvert_exporter": "python",
   "pygments_lexer": "ipython2",
   "version": "2.7.15"
  }
 },
 "nbformat": 4,
 "nbformat_minor": 2
}
