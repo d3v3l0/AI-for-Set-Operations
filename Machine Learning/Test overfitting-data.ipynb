{
 "cells": [
  {
   "cell_type": "code",
   "execution_count": 70,
   "metadata": {},
   "outputs": [],
   "source": [
    "import pandas as pd\n",
    "import numpy as np\n",
    "import os\n",
    "import glob\n",
    "from sklearn.model_selection import train_test_split\n",
    "from sklearn.tree import DecisionTreeClassifier\n",
    "from yellowbrick.classifier import ClassificationReport"
   ]
  },
  {
   "cell_type": "code",
   "execution_count": 71,
   "metadata": {},
   "outputs": [
    {
     "data": {
      "text/html": [
       "<div>\n",
       "<style scoped>\n",
       "    .dataframe tbody tr th:only-of-type {\n",
       "        vertical-align: middle;\n",
       "    }\n",
       "\n",
       "    .dataframe tbody tr th {\n",
       "        vertical-align: top;\n",
       "    }\n",
       "\n",
       "    .dataframe thead th {\n",
       "        text-align: right;\n",
       "    }\n",
       "</style>\n",
       "<table border=\"1\" class=\"dataframe\">\n",
       "  <thead>\n",
       "    <tr style=\"text-align: right;\">\n",
       "      <th></th>\n",
       "      <th>range</th>\n",
       "      <th>n1</th>\n",
       "      <th>average1</th>\n",
       "      <th>std1</th>\n",
       "      <th>n2</th>\n",
       "      <th>average2</th>\n",
       "      <th>std2</th>\n",
       "      <th>skewed_1</th>\n",
       "      <th>skewed_2</th>\n",
       "      <th>non_skewed</th>\n",
       "    </tr>\n",
       "  </thead>\n",
       "  <tbody>\n",
       "    <tr>\n",
       "      <th>0</th>\n",
       "      <td>65535</td>\n",
       "      <td>169096</td>\n",
       "      <td>19337.2</td>\n",
       "      <td>21706.3</td>\n",
       "      <td>169096</td>\n",
       "      <td>19337.2</td>\n",
       "      <td>21706.3</td>\n",
       "      <td>4413</td>\n",
       "      <td>2123</td>\n",
       "      <td>177137</td>\n",
       "    </tr>\n",
       "    <tr>\n",
       "      <th>1</th>\n",
       "      <td>65535</td>\n",
       "      <td>169096</td>\n",
       "      <td>19337.2</td>\n",
       "      <td>21706.3</td>\n",
       "      <td>46</td>\n",
       "      <td>20595.6</td>\n",
       "      <td>23630.1</td>\n",
       "      <td>41210</td>\n",
       "      <td>350</td>\n",
       "      <td>7478</td>\n",
       "    </tr>\n",
       "    <tr>\n",
       "      <th>2</th>\n",
       "      <td>65535</td>\n",
       "      <td>169096</td>\n",
       "      <td>19337.2</td>\n",
       "      <td>21706.3</td>\n",
       "      <td>17648</td>\n",
       "      <td>19492.5</td>\n",
       "      <td>21753.7</td>\n",
       "      <td>2897</td>\n",
       "      <td>607</td>\n",
       "      <td>44847</td>\n",
       "    </tr>\n",
       "    <tr>\n",
       "      <th>3</th>\n",
       "      <td>65535</td>\n",
       "      <td>169096</td>\n",
       "      <td>19337.2</td>\n",
       "      <td>21706.3</td>\n",
       "      <td>240934</td>\n",
       "      <td>19336.5</td>\n",
       "      <td>21696.3</td>\n",
       "      <td>4338</td>\n",
       "      <td>3214</td>\n",
       "      <td>633828</td>\n",
       "    </tr>\n",
       "    <tr>\n",
       "      <th>4</th>\n",
       "      <td>65535</td>\n",
       "      <td>169096</td>\n",
       "      <td>19337.2</td>\n",
       "      <td>21706.3</td>\n",
       "      <td>3018</td>\n",
       "      <td>19249.9</td>\n",
       "      <td>21904.1</td>\n",
       "      <td>2430</td>\n",
       "      <td>791</td>\n",
       "      <td>15887</td>\n",
       "    </tr>\n",
       "  </tbody>\n",
       "</table>\n",
       "</div>"
      ],
      "text/plain": [
       "   range      n1  average1      std1      n2  average2      std2  skewed_1  \\\n",
       "0  65535  169096   19337.2   21706.3  169096   19337.2   21706.3      4413   \n",
       "1  65535  169096   19337.2   21706.3      46   20595.6   23630.1     41210   \n",
       "2  65535  169096   19337.2   21706.3   17648   19492.5   21753.7      2897   \n",
       "3  65535  169096   19337.2   21706.3  240934   19336.5   21696.3      4338   \n",
       "4  65535  169096   19337.2   21706.3    3018   19249.9   21904.1      2430   \n",
       "\n",
       "   skewed_2  non_skewed  \n",
       "0      2123      177137  \n",
       "1       350        7478  \n",
       "2       607       44847  \n",
       "3      3214      633828  \n",
       "4       791       15887  "
      ]
     },
     "execution_count": 71,
     "metadata": {},
     "output_type": "execute_result"
    }
   ],
   "source": [
    "first_machine = next(glob.iglob('../results/*'))\n",
    "datasets = []\n",
    "datasetsNames = []\n",
    "for filepath in glob.iglob(first_machine + '/*/Intersect_dataset.csv'):\n",
    "    datasetsNames.append(os.path.basename(os.path.dirname(filepath)))\n",
    "    dataset = pd.read_csv(filepath)\n",
    "    dataset.columns = dataset.columns.str.strip()\n",
    "    datasets.append(dataset)\n",
    "dataset.head()"
   ]
  },
  {
   "cell_type": "code",
   "execution_count": 72,
   "metadata": {},
   "outputs": [],
   "source": [
    "feature_cols = ['n1', 'n2']\n",
    "algos = ['skewed_1', 'skewed_2', 'non_skewed']"
   ]
  },
  {
   "cell_type": "code",
   "execution_count": 73,
   "metadata": {},
   "outputs": [],
   "source": [
    "def getXs():\n",
    "    Xs = []\n",
    "    for dataset in datasets:\n",
    "        X = dataset.loc[:, feature_cols]\n",
    "        X = X.values\n",
    "        Xs.append(X)\n",
    "    return np.array(Xs)"
   ]
  },
  {
   "cell_type": "code",
   "execution_count": 74,
   "metadata": {},
   "outputs": [
    {
     "data": {
      "text/plain": [
       "(4, 40000, 2)"
      ]
     },
     "execution_count": 74,
     "metadata": {},
     "output_type": "execute_result"
    }
   ],
   "source": [
    "getXs().shape"
   ]
  },
  {
   "cell_type": "code",
   "execution_count": 75,
   "metadata": {},
   "outputs": [],
   "source": [
    "def getYs():\n",
    "    ys = []\n",
    "    for dataset in datasets:\n",
    "        y = dataset.loc[:, algos]\n",
    "        y = y.values\n",
    "        ys.append(y)\n",
    "    return np.array(ys)"
   ]
  },
  {
   "cell_type": "code",
   "execution_count": 76,
   "metadata": {},
   "outputs": [
    {
     "data": {
      "text/plain": [
       "(4, 40000, 3)"
      ]
     },
     "execution_count": 76,
     "metadata": {},
     "output_type": "execute_result"
    }
   ],
   "source": [
    "getYs().shape"
   ]
  },
  {
   "cell_type": "code",
   "execution_count": 77,
   "metadata": {},
   "outputs": [],
   "source": [
    "def getClassificationY(ys):\n",
    "    cy = []\n",
    "    for algoTimes in ys:\n",
    "        minVal = float(\"inf\")\n",
    "        minName = \"\"\n",
    "        for i, y in enumerate(algoTimes):    \n",
    "            if(y < minVal):\n",
    "                minVal = y\n",
    "                minName = algos[i]\n",
    "        cy.append(minName)\n",
    "    return np.array(cy)"
   ]
  },
  {
   "cell_type": "code",
   "execution_count": 78,
   "metadata": {},
   "outputs": [
    {
     "data": {
      "text/plain": [
       "(40000,)"
      ]
     },
     "execution_count": 78,
     "metadata": {},
     "output_type": "execute_result"
    }
   ],
   "source": [
    "getClassificationY(getYs()[0]).shape"
   ]
  },
  {
   "cell_type": "code",
   "execution_count": 79,
   "metadata": {},
   "outputs": [],
   "source": [
    "def clfSplit(X, y):\n",
    "    return train_test_split(X, y, test_size=0.2, random_state=0)"
   ]
  },
  {
   "cell_type": "code",
   "execution_count": 91,
   "metadata": {},
   "outputs": [
    {
     "name": "stdout",
     "output_type": "stream",
     "text": [
      "weather_sept_85\n"
     ]
    },
    {
     "data": {
      "image/png": "[encoded data removed]",
      "text/plain": [
       "<Figure size 432x288 with 2 Axes>"
      ]
     },
     "metadata": {},
     "output_type": "display_data"
    }
   ],
   "source": [
    "Xs = getXs()\n",
    "ys = getYs()\n",
    "i = 2\n",
    "print(datasetsNames[i])\n",
    "X_train, X_test, y_train, y_test = clfSplit(Xs[i], getClassificationY(ys[i]))\n",
    "\n",
    "visualizer = ClassificationReport(DecisionTreeClassifier(max_depth=None, random_state=0), support='percent')\n",
    "visualizer.fit(X_train, y_train)\n",
    "visualizer.score(X_test, y_test)\n",
    "visualizer.poof()"
   ]
  },
  {
   "cell_type": "code",
   "execution_count": 89,
   "metadata": {},
   "outputs": [
    {
     "data": {
      "image/png": "[encoded data removed]",
      "text/plain": [
       "<Figure size 432x288 with 2 Axes>"
      ]
     },
     "metadata": {},
     "output_type": "display_data"
    }
   ],
   "source": [
    "i = 0\n",
    "j = 2\n",
    "\n",
    "X = np.concatenate((Xs[2], Xs[2], Xs[2]), axis=0)\n",
    "y = np.concatenate((getClassificationY(ys[2]), getClassificationY(ys[2]), getClassificationY(ys[2])), axis=0)\n",
    "v = ClassificationReport(DecisionTreeClassifier(max_depth=None, random_state=0), support='percent')\n",
    "v.fit(X, y)\n",
    "v.score(Xs[j], getClassificationY(ys[j]))\n",
    "v.poof()"
   ]
  },
  {
   "cell_type": "code",
   "execution_count": null,
   "metadata": {},
   "outputs": [],
   "source": []
  },
  {
   "cell_type": "code",
   "execution_count": null,
   "metadata": {},
   "outputs": [],
   "source": []
  }
 ],
 "metadata": {
  "kernelspec": {
   "display_name": "Python 2",
   "language": "python",
   "name": "python2"
  },
  "language_info": {
   "codemirror_mode": {
    "name": "ipython",
    "version": 2
   },
   "file_extension": ".py",
   "mimetype": "text/x-python",
   "name": "python",
   "nbconvert_exporter": "python",
   "pygments_lexer": "ipython2",
   "version": "2.7.15"
  }
 },
 "nbformat": 4,
 "nbformat_minor": 2
}
